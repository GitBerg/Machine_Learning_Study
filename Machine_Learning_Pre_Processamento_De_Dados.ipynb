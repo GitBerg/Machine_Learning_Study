{
  "nbformat": 4,
  "nbformat_minor": 0,
  "metadata": {
    "colab": {
      "name": "Machine_Learning_Pre_Processamento_De_Dados.ipynb",
      "provenance": [],
      "collapsed_sections": [],
      "authorship_tag": "ABX9TyNQ80QryoBnhzpc/yBEg/zD",
      "include_colab_link": true
    },
    "kernelspec": {
      "name": "python3",
      "display_name": "Python 3"
    },
    "language_info": {
      "name": "python"
    }
  },
  "cells": [
    {
      "cell_type": "markdown",
      "metadata": {
        "id": "view-in-github",
        "colab_type": "text"
      },
      "source": [
        "<a href=\"https://colab.research.google.com/github/GitBerg/Machine_Learning_Study/blob/master/Machine_Learning_Pre_Processamento_De_Dados.ipynb\" target=\"_parent\"><img src=\"https://colab.research.google.com/assets/colab-badge.svg\" alt=\"Open In Colab\"/></a>"
      ]
    },
    {
      "cell_type": "markdown",
      "metadata": {
        "id": "-ap9SwUmkcVD"
      },
      "source": [
        "**Instalação do Plotly (Biblioteca de gráficos dinâmicos) e atualização para a última versão disponível.**"
      ]
    },
    {
      "cell_type": "code",
      "metadata": {
        "id": "TJ3fnPqOiZed",
        "colab": {
          "base_uri": "https://localhost:8080/"
        },
        "outputId": "ec66f995-0de2-43e8-b32f-0741a777a089"
      },
      "source": [
        "!pip install plotly --upgrade\n"
      ],
      "execution_count": null,
      "outputs": [
        {
          "output_type": "stream",
          "text": [
            "Collecting plotly\n",
            "\u001b[?25l  Downloading https://files.pythonhosted.org/packages/1f/f6/bd3c17c8003b6641df1228e80e1acac97ed8402635e46c2571f8e1ef63af/plotly-4.14.3-py2.py3-none-any.whl (13.2MB)\n",
            "\u001b[K     |████████████████████████████████| 13.2MB 304kB/s \n",
            "\u001b[?25hRequirement already satisfied, skipping upgrade: retrying>=1.3.3 in /usr/local/lib/python3.7/dist-packages (from plotly) (1.3.3)\n",
            "Requirement already satisfied, skipping upgrade: six in /usr/local/lib/python3.7/dist-packages (from plotly) (1.15.0)\n",
            "Installing collected packages: plotly\n",
            "  Found existing installation: plotly 4.4.1\n",
            "    Uninstalling plotly-4.4.1:\n",
            "      Successfully uninstalled plotly-4.4.1\n",
            "Successfully installed plotly-4.14.3\n"
          ],
          "name": "stdout"
        }
      ]
    },
    {
      "cell_type": "markdown",
      "metadata": {
        "id": "kJj9TeYJkxxx"
      },
      "source": [
        "**Importação de bibliotecas uteis. Pandas (Carregamento de arquivos CSV), NumPy, Seaborn (Vizualização de gráficos), Matplotlib (Vizualização de gráficos) e plotly (Gráficos dinâmicos).**"
      ]
    },
    {
      "cell_type": "code",
      "metadata": {
        "id": "8bs5Te1cjeUN"
      },
      "source": [
        "import pandas as pd\n",
        "import numpy as np\n",
        "import seaborn as sns\n",
        "import matplotlib.pyplot as plt\n",
        "import plotly.express as px"
      ],
      "execution_count": null,
      "outputs": []
    },
    {
      "cell_type": "markdown",
      "metadata": {
        "id": "jLgLp8yZmWDX"
      },
      "source": [
        "**Continuando... bbbb**"
      ]
    }
  ]
}