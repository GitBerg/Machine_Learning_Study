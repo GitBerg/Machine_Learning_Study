{
  "nbformat": 4,
  "nbformat_minor": 0,
  "metadata": {
    "colab": {
      "name": "Machine_Learning_Avaliação_De_Algoritmos.ipynb",
      "provenance": [],
      "collapsed_sections": [],
      "authorship_tag": "ABX9TyNx0jW1nqAB5973VPzoRgs0",
      "include_colab_link": true
    },
    "kernelspec": {
      "name": "python3",
      "display_name": "Python 3"
    },
    "language_info": {
      "name": "python"
    }
  },
  "cells": [
    {
      "cell_type": "markdown",
      "metadata": {
        "id": "view-in-github",
        "colab_type": "text"
      },
      "source": [
        "<a href=\"https://colab.research.google.com/github/GitBerg/Machine_Learning_Study/blob/master/09-Avalia%C3%A7%C3%A3o%20de%20algoritmos%20de%20classifica%C3%A7%C3%A3o/Machine_Learning_Avalia%C3%A7%C3%A3o_De_Algoritmos.ipynb\" target=\"_parent\"><img src=\"https://colab.research.google.com/assets/colab-badge.svg\" alt=\"Open In Colab\"/></a>"
      ]
    },
    {
      "cell_type": "markdown",
      "metadata": {
        "id": "P1SjRCB8Bwtm"
      },
      "source": [
        "#Avaliação dos Algoritmos\n",
        "\n",
        "\n",
        "\n",
        "*  Naïve Bayes: 93.80\n",
        "*  Árvore de decisão: 98.20\n",
        "*  Random forest: 98.40\n",
        "*  Regras: 97.40\n",
        "*  Knn: 98.60\n",
        "*  Regressão logística: 94.60\n",
        "*  SVM: 98.80\n",
        "*  Redes neurais: 99.80\n",
        "\n"
      ]
    },
    {
      "cell_type": "markdown",
      "metadata": {
        "id": "_OYuX2EvDVJK"
      },
      "source": [
        "###Tuning dos Parâmetros com GridSearch\n",
        "\n",
        "\n",
        "---\n",
        "\n",
        "\n"
      ]
    },
    {
      "cell_type": "markdown",
      "metadata": {
        "id": "mY2f7fl0Dpun"
      },
      "source": [
        "####Preparação dos dados"
      ]
    },
    {
      "cell_type": "code",
      "metadata": {
        "id": "ccD83VDYBYm7"
      },
      "source": [
        "from sklearn.model_selection import GridSearchCV\n",
        "from sklearn.tree import DecisionTreeClassifier\n",
        "from sklearn.ensemble import RandomForestClassifier\n",
        "from sklearn.neighbors import KNeighborsClassifier\n",
        "from sklearn.linear_model import LogisticRegression\n",
        "from sklearn.svm import SVC\n",
        "from sklearn.neural_network import MLPClassifier"
      ],
      "execution_count": 1,
      "outputs": []
    },
    {
      "cell_type": "code",
      "metadata": {
        "id": "2yf6SMo5EeeZ"
      },
      "source": [
        "import pickle\n",
        "with open('credit.pkl', 'rb') as f:\n",
        "  X_credit_treinamento, y_credit_treinamento, X_credit_teste, y_credit_teste = pickle.load(f)"
      ],
      "execution_count": 2,
      "outputs": []
    },
    {
      "cell_type": "code",
      "metadata": {
        "colab": {
          "base_uri": "https://localhost:8080/"
        },
        "id": "f3CNVMnpE16K",
        "outputId": "4ee1c6f1-f878-467e-c8c2-4503f25cb0df"
      },
      "source": [
        "X_credit_treinamento.shape, y_credit_treinamento.shape"
      ],
      "execution_count": 3,
      "outputs": [
        {
          "output_type": "execute_result",
          "data": {
            "text/plain": [
              "((1500, 3), (1500,))"
            ]
          },
          "metadata": {
            "tags": []
          },
          "execution_count": 3
        }
      ]
    },
    {
      "cell_type": "code",
      "metadata": {
        "colab": {
          "base_uri": "https://localhost:8080/"
        },
        "id": "qIaccPmoE5vj",
        "outputId": "27ce09a1-1b7f-46f7-bf80-9aa2275a5390"
      },
      "source": [
        "X_credit_teste.shape, y_credit_teste.shape"
      ],
      "execution_count": 4,
      "outputs": [
        {
          "output_type": "execute_result",
          "data": {
            "text/plain": [
              "((500, 3), (500,))"
            ]
          },
          "metadata": {
            "tags": []
          },
          "execution_count": 4
        }
      ]
    },
    {
      "cell_type": "code",
      "metadata": {
        "colab": {
          "base_uri": "https://localhost:8080/"
        },
        "id": "fO3bHi-qE-fd",
        "outputId": "0a3d9657-61f8-41f4-ba35-b58a74ad5d9e"
      },
      "source": [
        "import numpy as np\n",
        "X_credit = np.concatenate((X_credit_treinamento, X_credit_teste), axis = 0)\n",
        "X_credit.shape"
      ],
      "execution_count": 5,
      "outputs": [
        {
          "output_type": "execute_result",
          "data": {
            "text/plain": [
              "(2000, 3)"
            ]
          },
          "metadata": {
            "tags": []
          },
          "execution_count": 5
        }
      ]
    },
    {
      "cell_type": "code",
      "metadata": {
        "colab": {
          "base_uri": "https://localhost:8080/"
        },
        "id": "3DTGES3_E-ab",
        "outputId": "0e69b355-a9b2-43f8-9854-2f101a8041a3"
      },
      "source": [
        "X_credit"
      ],
      "execution_count": 6,
      "outputs": [
        {
          "output_type": "execute_result",
          "data": {
            "text/plain": [
              "array([[-1.3754462 ,  0.50631087,  0.10980934],\n",
              "       [ 1.45826409, -1.6489393 , -1.21501497],\n",
              "       [-0.79356829,  0.22531191, -0.43370226],\n",
              "       ...,\n",
              "       [ 1.37445674, -1.05746281, -1.12564819],\n",
              "       [-1.57087737, -0.63488173, -0.36981671],\n",
              "       [-1.03572293, -0.93978122,  0.04244312]])"
            ]
          },
          "metadata": {
            "tags": []
          },
          "execution_count": 6
        }
      ]
    },
    {
      "cell_type": "code",
      "metadata": {
        "colab": {
          "base_uri": "https://localhost:8080/"
        },
        "id": "xmMVyYa-FoeE",
        "outputId": "531de3fd-e2ba-466c-8af5-61da94154fd2"
      },
      "source": [
        "y_credit = np.concatenate((y_credit_treinamento, y_credit_teste), axis = 0)\n",
        "y_credit.shape"
      ],
      "execution_count": 7,
      "outputs": [
        {
          "output_type": "execute_result",
          "data": {
            "text/plain": [
              "(2000,)"
            ]
          },
          "metadata": {
            "tags": []
          },
          "execution_count": 7
        }
      ]
    },
    {
      "cell_type": "code",
      "metadata": {
        "id": "ECxtAHjcF0ty",
        "colab": {
          "base_uri": "https://localhost:8080/"
        },
        "outputId": "56c6c601-521c-4bd0-80fb-14420862b756"
      },
      "source": [
        "y_credit"
      ],
      "execution_count": 8,
      "outputs": [
        {
          "output_type": "execute_result",
          "data": {
            "text/plain": [
              "array([0, 0, 0, ..., 0, 1, 1])"
            ]
          },
          "metadata": {
            "tags": []
          },
          "execution_count": 8
        }
      ]
    },
    {
      "cell_type": "markdown",
      "metadata": {
        "id": "ZRz73nrKzzTK"
      },
      "source": [
        "###Árvore de decisão"
      ]
    },
    {
      "cell_type": "code",
      "metadata": {
        "id": "KHX5g2DO0Tjl"
      },
      "source": [
        "parametros = {'criterion' : ['gini', 'entropy'],\n",
        "               'splitter' : ['best', 'random'],\n",
        "               'min_samples_split' : [2, 5, 10],\n",
        "               'min_samples_leaf' : [1, 5, 10]}"
      ],
      "execution_count": 9,
      "outputs": []
    },
    {
      "cell_type": "code",
      "metadata": {
        "colab": {
          "base_uri": "https://localhost:8080/"
        },
        "id": "qunj8An5z_v9",
        "outputId": "9e185ea5-86c3-4434-83c4-48afc8741180"
      },
      "source": [
        "grid_search = GridSearchCV(estimator=DecisionTreeClassifier(), param_grid=parametros)\n",
        "grid_search.fit(X_credit, y_credit)\n",
        "melhores_parametros = grid_search.best_params_\n",
        "melhor_resultado = grid_search.best_score_\n",
        "print(melhores_parametros)\n",
        "print(melhor_resultado)"
      ],
      "execution_count": 11,
      "outputs": [
        {
          "output_type": "stream",
          "text": [
            "{'criterion': 'entropy', 'min_samples_leaf': 1, 'min_samples_split': 5, 'splitter': 'best'}\n",
            "0.983\n"
          ],
          "name": "stdout"
        }
      ]
    },
    {
      "cell_type": "markdown",
      "metadata": {
        "id": "qbRnueO61v4R"
      },
      "source": [
        "###Random Forest"
      ]
    },
    {
      "cell_type": "code",
      "metadata": {
        "id": "4PY3-CMe2O0O"
      },
      "source": [
        "parametros = {'criterion' : ['gini', 'entropy'],\n",
        "               'n_estimators' : [10, 40, 100, 150],\n",
        "               'min_samples_split' : [2, 5, 10],\n",
        "               'min_samples_leaf' : [1, 5, 10]}"
      ],
      "execution_count": 12,
      "outputs": []
    },
    {
      "cell_type": "code",
      "metadata": {
        "colab": {
          "base_uri": "https://localhost:8080/"
        },
        "id": "D8VJCv8u2FkN",
        "outputId": "7b0d5941-cdf2-43d8-db6b-a5ffdd57c3a2"
      },
      "source": [
        "grid_search = GridSearchCV(estimator=RandomForestClassifier(), param_grid=parametros)\n",
        "grid_search.fit(X_credit, y_credit)\n",
        "melhores_parametros = grid_search.best_params_\n",
        "melhor_resultado = grid_search.best_score_\n",
        "print(melhores_parametros)\n",
        "print(melhor_resultado)"
      ],
      "execution_count": 13,
      "outputs": [
        {
          "output_type": "stream",
          "text": [
            "{'criterion': 'entropy', 'min_samples_leaf': 1, 'min_samples_split': 5, 'n_estimators': 100}\n",
            "0.9865\n"
          ],
          "name": "stdout"
        }
      ]
    },
    {
      "cell_type": "markdown",
      "metadata": {
        "id": "0-LpPABY1xn7"
      },
      "source": [
        "###Knn"
      ]
    },
    {
      "cell_type": "code",
      "metadata": {
        "id": "z0W3iSx62-rr"
      },
      "source": [
        "parametros = {'n_neighbors' : [3, 5, 10, 20],\n",
        "              'p' : [1, 2]}"
      ],
      "execution_count": 16,
      "outputs": []
    },
    {
      "cell_type": "code",
      "metadata": {
        "colab": {
          "base_uri": "https://localhost:8080/"
        },
        "id": "aX0MihTk23bc",
        "outputId": "3a417ebb-6945-492d-d3b4-8ec48c25e674"
      },
      "source": [
        "grid_search = GridSearchCV(estimator=KNeighborsClassifier(), param_grid=parametros)\n",
        "grid_search.fit(X_credit, y_credit)\n",
        "melhores_parametros = grid_search.best_params_\n",
        "melhor_resultado = grid_search.best_score_\n",
        "print(melhores_parametros)\n",
        "print(melhor_resultado)"
      ],
      "execution_count": 17,
      "outputs": [
        {
          "output_type": "stream",
          "text": [
            "{'n_neighbors': 20, 'p': 1}\n",
            "0.9800000000000001\n"
          ],
          "name": "stdout"
        }
      ]
    },
    {
      "cell_type": "markdown",
      "metadata": {
        "id": "VlhYaEFU1zHm"
      },
      "source": [
        "###Regressão Logística"
      ]
    },
    {
      "cell_type": "code",
      "metadata": {
        "id": "NMdgJ_mc39jp"
      },
      "source": [
        "parametros = {'tol' : [0.0001, 0.00001, 0.000001],\n",
        "              'C' : [1.0 , 1.5 , 2.0],\n",
        "              'solver' : ['lbfgs' , 'sag', 'saga']}"
      ],
      "execution_count": 18,
      "outputs": []
    },
    {
      "cell_type": "code",
      "metadata": {
        "colab": {
          "base_uri": "https://localhost:8080/"
        },
        "id": "HAw_HOgT3vnk",
        "outputId": "290c0c9b-8c84-4f6f-abf1-b492b6b0d1cd"
      },
      "source": [
        "grid_search = GridSearchCV(estimator=LogisticRegression(), param_grid=parametros)\n",
        "grid_search.fit(X_credit, y_credit)\n",
        "melhores_parametros = grid_search.best_params_\n",
        "melhor_resultado = grid_search.best_score_\n",
        "print(melhores_parametros)\n",
        "print(melhor_resultado)"
      ],
      "execution_count": 19,
      "outputs": [
        {
          "output_type": "stream",
          "text": [
            "{'C': 1.0, 'solver': 'lbfgs', 'tol': 0.0001}\n",
            "0.9484999999999999\n"
          ],
          "name": "stdout"
        }
      ]
    },
    {
      "cell_type": "markdown",
      "metadata": {
        "id": "oTMs1dEw4htb"
      },
      "source": [
        "###SVM"
      ]
    },
    {
      "cell_type": "code",
      "metadata": {
        "id": "ZkjhAybI4ot3"
      },
      "source": [
        "parametros = {'tol' : [0.0001, 0.00001, 0.000001],\n",
        "              'C' : [1.0, 1.5, 2.0],\n",
        "              'kernel' : ['rbf', 'linear','poly', 'sigmoid']}"
      ],
      "execution_count": 20,
      "outputs": []
    },
    {
      "cell_type": "code",
      "metadata": {
        "colab": {
          "base_uri": "https://localhost:8080/"
        },
        "id": "Mbca9Yx_4kjK",
        "outputId": "c0455281-fff3-44f0-b609-abf91fad19b7"
      },
      "source": [
        "grid_search = GridSearchCV(estimator=SVC(), param_grid=parametros)\n",
        "grid_search.fit(X_credit, y_credit)\n",
        "melhores_parametros = grid_search.best_params_\n",
        "melhor_resultado = grid_search.best_score_\n",
        "print(melhores_parametros)\n",
        "print(melhor_resultado)"
      ],
      "execution_count": 21,
      "outputs": [
        {
          "output_type": "stream",
          "text": [
            "{'C': 1.5, 'kernel': 'rbf', 'tol': 0.0001}\n",
            "0.9829999999999999\n"
          ],
          "name": "stdout"
        }
      ]
    },
    {
      "cell_type": "markdown",
      "metadata": {
        "id": "_jk2qHrC11rU"
      },
      "source": [
        "###Redes Neurais"
      ]
    },
    {
      "cell_type": "code",
      "metadata": {
        "id": "crev6GeS4djm"
      },
      "source": [
        "parametros = {'activation' : ['relu', 'logistic', 'tahn'],\n",
        "              'solver' : ['adam', 'sgd'],\n",
        "              'batch_size' : [10, 56]}"
      ],
      "execution_count": 22,
      "outputs": []
    },
    {
      "cell_type": "code",
      "metadata": {
        "id": "tdTjbEw85b3T"
      },
      "source": [
        "grid_search = GridSearchCV(estimator=MLPClassifier(), param_grid=parametros)\n",
        "grid_search.fit(X_credit, y_credit)\n",
        "melhores_parametros = grid_search.best_params_\n",
        "melhor_resultado = grid_search.best_score_"
      ],
      "execution_count": null,
      "outputs": []
    },
    {
      "cell_type": "code",
      "metadata": {
        "colab": {
          "base_uri": "https://localhost:8080/"
        },
        "id": "kIO_Mb7n6f96",
        "outputId": "90ef8413-e80a-4599-de69-8a1c2dc86628"
      },
      "source": [
        "print(melhores_parametros)\n",
        "print(melhor_resultado)"
      ],
      "execution_count": 24,
      "outputs": [
        {
          "output_type": "stream",
          "text": [
            "{'activation': 'relu', 'batch_size': 56, 'solver': 'adam'}\n",
            "0.9970000000000001\n"
          ],
          "name": "stdout"
        }
      ]
    },
    {
      "cell_type": "markdown",
      "metadata": {
        "id": "zPfzqg1p6vRi"
      },
      "source": [
        "##Validação Cruzada"
      ]
    },
    {
      "cell_type": "code",
      "metadata": {
        "id": "yym9BNQ46xj8"
      },
      "source": [
        "from sklearn.model_selection import cross_val_score, KFold"
      ],
      "execution_count": 26,
      "outputs": []
    },
    {
      "cell_type": "code",
      "metadata": {
        "id": "x_TDDT2B63D9"
      },
      "source": [
        "resultados_arvore = []\n",
        "resultados_random_forest = []\n",
        "resultados_knn = []\n",
        "resultados_logistica = []\n",
        "resultados_svm = []\n",
        "resultados_rede_neural = []\n",
        "\n",
        "for i in range(30):\n",
        "  kfold = KFold(n_splits=10, shuffle=True, random_state=i)\n",
        "\n",
        "  arvore = DecisionTreeClassifier(criterion='entropy', min_samples_leaf=1, min_samples_split=5, splitter='best')\n",
        "  scores = cross_val_score(arvore, X_credit, y_credit, cv = kfold)\n",
        "  ##print (scores)\n",
        "  ##print(scores.mean())\n",
        "  resultados_arvore.append(scores.mean())\n",
        "\n",
        "  random_forest = RandomForestClassifier(criterion='entropy', min_samples_leaf = 1, min_samples_split= 5, n_estimators= 100 )\n",
        "  scores = cross_val_score(random_forest, X_credit, y_credit,cv = kfold)\n",
        "  resultados_random_forest.append(scores.mean())\n",
        "\n",
        "  knn = KNeighborsClassifier(n_neighbors = 20, p = 1)\n",
        "  scores = cross_val_score(knn, X_credit, y_credit,cv = kfold)\n",
        "  resultados_knn.append(scores.mean())\n",
        "\n",
        "  logistica = LogisticRegression(solver = 'lbfgs', C = 1.0, tol = 0.0001)\n",
        "  scores = cross_val_score(logistica, X_credit, y_credit,cv = kfold)\n",
        "  resultados_logistica.append(scores.mean())\n",
        "\n",
        "  svm = SVC(kernel = 'rbf', C = 1.5, tol = 0.0001)\n",
        "  scores = cross_val_score(svm, X_credit, y_credit,cv = kfold)\n",
        "  resultados_svm.append(scores.mean())\n",
        "\n",
        "  rede_neural = MLPClassifier(activation = 'relu', solver = 'adam', batch_size = 56)\n",
        "  scores = cross_val_score(rede_neural, X_credit, y_credit,cv = kfold)\n",
        "  resultados_rede_neural.append(scores.mean())"
      ],
      "execution_count": null,
      "outputs": []
    },
    {
      "cell_type": "code",
      "metadata": {
        "colab": {
          "base_uri": "https://localhost:8080/",
          "height": 948
        },
        "id": "phNGvPD9FcCi",
        "outputId": "20d70e80-bfb4-45e1-8d31-5cc189b991ce"
      },
      "source": [
        "import pandas as pd\n",
        "resultados = pd.DataFrame({'Arvore' : resultados_arvore, 'Random_forest' : resultados_random_forest, \n",
        "                           'KNN' : resultados_knn, 'Logistica' : resultados_logistica,\n",
        "                           'SVM' : resultados_svm, 'Rede neural' : resultados_rede_neural})\n",
        "resultados"
      ],
      "execution_count": 48,
      "outputs": [
        {
          "output_type": "execute_result",
          "data": {
            "text/html": [
              "<div>\n",
              "<style scoped>\n",
              "    .dataframe tbody tr th:only-of-type {\n",
              "        vertical-align: middle;\n",
              "    }\n",
              "\n",
              "    .dataframe tbody tr th {\n",
              "        vertical-align: top;\n",
              "    }\n",
              "\n",
              "    .dataframe thead th {\n",
              "        text-align: right;\n",
              "    }\n",
              "</style>\n",
              "<table border=\"1\" class=\"dataframe\">\n",
              "  <thead>\n",
              "    <tr style=\"text-align: right;\">\n",
              "      <th></th>\n",
              "      <th>Arvore</th>\n",
              "      <th>Random_forest</th>\n",
              "      <th>KNN</th>\n",
              "      <th>Logistica</th>\n",
              "      <th>SVM</th>\n",
              "      <th>Rede neural</th>\n",
              "    </tr>\n",
              "  </thead>\n",
              "  <tbody>\n",
              "    <tr>\n",
              "      <th>0</th>\n",
              "      <td>0.9860</td>\n",
              "      <td>0.9880</td>\n",
              "      <td>0.9800</td>\n",
              "      <td>0.9475</td>\n",
              "      <td>0.9835</td>\n",
              "      <td>0.9970</td>\n",
              "    </tr>\n",
              "    <tr>\n",
              "      <th>1</th>\n",
              "      <td>0.9845</td>\n",
              "      <td>0.9865</td>\n",
              "      <td>0.9800</td>\n",
              "      <td>0.9465</td>\n",
              "      <td>0.9835</td>\n",
              "      <td>0.9980</td>\n",
              "    </tr>\n",
              "    <tr>\n",
              "      <th>2</th>\n",
              "      <td>0.9905</td>\n",
              "      <td>0.9880</td>\n",
              "      <td>0.9800</td>\n",
              "      <td>0.9470</td>\n",
              "      <td>0.9835</td>\n",
              "      <td>0.9975</td>\n",
              "    </tr>\n",
              "    <tr>\n",
              "      <th>3</th>\n",
              "      <td>0.9880</td>\n",
              "      <td>0.9870</td>\n",
              "      <td>0.9800</td>\n",
              "      <td>0.9460</td>\n",
              "      <td>0.9845</td>\n",
              "      <td>0.9965</td>\n",
              "    </tr>\n",
              "    <tr>\n",
              "      <th>4</th>\n",
              "      <td>0.9885</td>\n",
              "      <td>0.9915</td>\n",
              "      <td>0.9810</td>\n",
              "      <td>0.9465</td>\n",
              "      <td>0.9855</td>\n",
              "      <td>0.9980</td>\n",
              "    </tr>\n",
              "    <tr>\n",
              "      <th>5</th>\n",
              "      <td>0.9890</td>\n",
              "      <td>0.9895</td>\n",
              "      <td>0.9785</td>\n",
              "      <td>0.9465</td>\n",
              "      <td>0.9830</td>\n",
              "      <td>0.9980</td>\n",
              "    </tr>\n",
              "    <tr>\n",
              "      <th>6</th>\n",
              "      <td>0.9885</td>\n",
              "      <td>0.9865</td>\n",
              "      <td>0.9800</td>\n",
              "      <td>0.9470</td>\n",
              "      <td>0.9840</td>\n",
              "      <td>0.9970</td>\n",
              "    </tr>\n",
              "    <tr>\n",
              "      <th>7</th>\n",
              "      <td>0.9875</td>\n",
              "      <td>0.9895</td>\n",
              "      <td>0.9805</td>\n",
              "      <td>0.9480</td>\n",
              "      <td>0.9845</td>\n",
              "      <td>0.9965</td>\n",
              "    </tr>\n",
              "    <tr>\n",
              "      <th>8</th>\n",
              "      <td>0.9860</td>\n",
              "      <td>0.9895</td>\n",
              "      <td>0.9810</td>\n",
              "      <td>0.9465</td>\n",
              "      <td>0.9820</td>\n",
              "      <td>0.9955</td>\n",
              "    </tr>\n",
              "    <tr>\n",
              "      <th>9</th>\n",
              "      <td>0.9875</td>\n",
              "      <td>0.9880</td>\n",
              "      <td>0.9810</td>\n",
              "      <td>0.9465</td>\n",
              "      <td>0.9830</td>\n",
              "      <td>0.9970</td>\n",
              "    </tr>\n",
              "    <tr>\n",
              "      <th>10</th>\n",
              "      <td>0.9860</td>\n",
              "      <td>0.9865</td>\n",
              "      <td>0.9780</td>\n",
              "      <td>0.9475</td>\n",
              "      <td>0.9825</td>\n",
              "      <td>0.9975</td>\n",
              "    </tr>\n",
              "    <tr>\n",
              "      <th>11</th>\n",
              "      <td>0.9895</td>\n",
              "      <td>0.9875</td>\n",
              "      <td>0.9805</td>\n",
              "      <td>0.9480</td>\n",
              "      <td>0.9825</td>\n",
              "      <td>0.9970</td>\n",
              "    </tr>\n",
              "    <tr>\n",
              "      <th>12</th>\n",
              "      <td>0.9890</td>\n",
              "      <td>0.9860</td>\n",
              "      <td>0.9810</td>\n",
              "      <td>0.9475</td>\n",
              "      <td>0.9845</td>\n",
              "      <td>0.9970</td>\n",
              "    </tr>\n",
              "    <tr>\n",
              "      <th>13</th>\n",
              "      <td>0.9870</td>\n",
              "      <td>0.9880</td>\n",
              "      <td>0.9800</td>\n",
              "      <td>0.9475</td>\n",
              "      <td>0.9840</td>\n",
              "      <td>0.9975</td>\n",
              "    </tr>\n",
              "    <tr>\n",
              "      <th>14</th>\n",
              "      <td>0.9825</td>\n",
              "      <td>0.9875</td>\n",
              "      <td>0.9795</td>\n",
              "      <td>0.9485</td>\n",
              "      <td>0.9835</td>\n",
              "      <td>0.9965</td>\n",
              "    </tr>\n",
              "    <tr>\n",
              "      <th>15</th>\n",
              "      <td>0.9860</td>\n",
              "      <td>0.9870</td>\n",
              "      <td>0.9795</td>\n",
              "      <td>0.9475</td>\n",
              "      <td>0.9845</td>\n",
              "      <td>0.9980</td>\n",
              "    </tr>\n",
              "    <tr>\n",
              "      <th>16</th>\n",
              "      <td>0.9855</td>\n",
              "      <td>0.9855</td>\n",
              "      <td>0.9805</td>\n",
              "      <td>0.9460</td>\n",
              "      <td>0.9840</td>\n",
              "      <td>0.9970</td>\n",
              "    </tr>\n",
              "    <tr>\n",
              "      <th>17</th>\n",
              "      <td>0.9905</td>\n",
              "      <td>0.9885</td>\n",
              "      <td>0.9830</td>\n",
              "      <td>0.9470</td>\n",
              "      <td>0.9845</td>\n",
              "      <td>0.9975</td>\n",
              "    </tr>\n",
              "    <tr>\n",
              "      <th>18</th>\n",
              "      <td>0.9875</td>\n",
              "      <td>0.9870</td>\n",
              "      <td>0.9800</td>\n",
              "      <td>0.9465</td>\n",
              "      <td>0.9850</td>\n",
              "      <td>0.9975</td>\n",
              "    </tr>\n",
              "    <tr>\n",
              "      <th>19</th>\n",
              "      <td>0.9870</td>\n",
              "      <td>0.9875</td>\n",
              "      <td>0.9805</td>\n",
              "      <td>0.9465</td>\n",
              "      <td>0.9840</td>\n",
              "      <td>0.9965</td>\n",
              "    </tr>\n",
              "    <tr>\n",
              "      <th>20</th>\n",
              "      <td>0.9840</td>\n",
              "      <td>0.9855</td>\n",
              "      <td>0.9800</td>\n",
              "      <td>0.9465</td>\n",
              "      <td>0.9835</td>\n",
              "      <td>0.9975</td>\n",
              "    </tr>\n",
              "    <tr>\n",
              "      <th>21</th>\n",
              "      <td>0.9865</td>\n",
              "      <td>0.9880</td>\n",
              "      <td>0.9810</td>\n",
              "      <td>0.9470</td>\n",
              "      <td>0.9850</td>\n",
              "      <td>0.9980</td>\n",
              "    </tr>\n",
              "    <tr>\n",
              "      <th>22</th>\n",
              "      <td>0.9890</td>\n",
              "      <td>0.9885</td>\n",
              "      <td>0.9810</td>\n",
              "      <td>0.9455</td>\n",
              "      <td>0.9845</td>\n",
              "      <td>0.9970</td>\n",
              "    </tr>\n",
              "    <tr>\n",
              "      <th>23</th>\n",
              "      <td>0.9870</td>\n",
              "      <td>0.9875</td>\n",
              "      <td>0.9800</td>\n",
              "      <td>0.9465</td>\n",
              "      <td>0.9870</td>\n",
              "      <td>0.9970</td>\n",
              "    </tr>\n",
              "    <tr>\n",
              "      <th>24</th>\n",
              "      <td>0.9870</td>\n",
              "      <td>0.9880</td>\n",
              "      <td>0.9835</td>\n",
              "      <td>0.9470</td>\n",
              "      <td>0.9840</td>\n",
              "      <td>0.9975</td>\n",
              "    </tr>\n",
              "    <tr>\n",
              "      <th>25</th>\n",
              "      <td>0.9885</td>\n",
              "      <td>0.9865</td>\n",
              "      <td>0.9815</td>\n",
              "      <td>0.9470</td>\n",
              "      <td>0.9820</td>\n",
              "      <td>0.9970</td>\n",
              "    </tr>\n",
              "    <tr>\n",
              "      <th>26</th>\n",
              "      <td>0.9875</td>\n",
              "      <td>0.9870</td>\n",
              "      <td>0.9795</td>\n",
              "      <td>0.9475</td>\n",
              "      <td>0.9825</td>\n",
              "      <td>0.9960</td>\n",
              "    </tr>\n",
              "    <tr>\n",
              "      <th>27</th>\n",
              "      <td>0.9855</td>\n",
              "      <td>0.9855</td>\n",
              "      <td>0.9795</td>\n",
              "      <td>0.9465</td>\n",
              "      <td>0.9850</td>\n",
              "      <td>0.9970</td>\n",
              "    </tr>\n",
              "    <tr>\n",
              "      <th>28</th>\n",
              "      <td>0.9870</td>\n",
              "      <td>0.9850</td>\n",
              "      <td>0.9775</td>\n",
              "      <td>0.9480</td>\n",
              "      <td>0.9830</td>\n",
              "      <td>0.9970</td>\n",
              "    </tr>\n",
              "    <tr>\n",
              "      <th>29</th>\n",
              "      <td>0.9885</td>\n",
              "      <td>0.9870</td>\n",
              "      <td>0.9780</td>\n",
              "      <td>0.9465</td>\n",
              "      <td>0.9860</td>\n",
              "      <td>0.9970</td>\n",
              "    </tr>\n",
              "  </tbody>\n",
              "</table>\n",
              "</div>"
            ],
            "text/plain": [
              "    Arvore  Random_forest     KNN  Logistica     SVM  Rede neural\n",
              "0   0.9860         0.9880  0.9800     0.9475  0.9835       0.9970\n",
              "1   0.9845         0.9865  0.9800     0.9465  0.9835       0.9980\n",
              "2   0.9905         0.9880  0.9800     0.9470  0.9835       0.9975\n",
              "3   0.9880         0.9870  0.9800     0.9460  0.9845       0.9965\n",
              "4   0.9885         0.9915  0.9810     0.9465  0.9855       0.9980\n",
              "5   0.9890         0.9895  0.9785     0.9465  0.9830       0.9980\n",
              "6   0.9885         0.9865  0.9800     0.9470  0.9840       0.9970\n",
              "7   0.9875         0.9895  0.9805     0.9480  0.9845       0.9965\n",
              "8   0.9860         0.9895  0.9810     0.9465  0.9820       0.9955\n",
              "9   0.9875         0.9880  0.9810     0.9465  0.9830       0.9970\n",
              "10  0.9860         0.9865  0.9780     0.9475  0.9825       0.9975\n",
              "11  0.9895         0.9875  0.9805     0.9480  0.9825       0.9970\n",
              "12  0.9890         0.9860  0.9810     0.9475  0.9845       0.9970\n",
              "13  0.9870         0.9880  0.9800     0.9475  0.9840       0.9975\n",
              "14  0.9825         0.9875  0.9795     0.9485  0.9835       0.9965\n",
              "15  0.9860         0.9870  0.9795     0.9475  0.9845       0.9980\n",
              "16  0.9855         0.9855  0.9805     0.9460  0.9840       0.9970\n",
              "17  0.9905         0.9885  0.9830     0.9470  0.9845       0.9975\n",
              "18  0.9875         0.9870  0.9800     0.9465  0.9850       0.9975\n",
              "19  0.9870         0.9875  0.9805     0.9465  0.9840       0.9965\n",
              "20  0.9840         0.9855  0.9800     0.9465  0.9835       0.9975\n",
              "21  0.9865         0.9880  0.9810     0.9470  0.9850       0.9980\n",
              "22  0.9890         0.9885  0.9810     0.9455  0.9845       0.9970\n",
              "23  0.9870         0.9875  0.9800     0.9465  0.9870       0.9970\n",
              "24  0.9870         0.9880  0.9835     0.9470  0.9840       0.9975\n",
              "25  0.9885         0.9865  0.9815     0.9470  0.9820       0.9970\n",
              "26  0.9875         0.9870  0.9795     0.9475  0.9825       0.9960\n",
              "27  0.9855         0.9855  0.9795     0.9465  0.9850       0.9970\n",
              "28  0.9870         0.9850  0.9775     0.9480  0.9830       0.9970\n",
              "29  0.9885         0.9870  0.9780     0.9465  0.9860       0.9970"
            ]
          },
          "metadata": {
            "tags": []
          },
          "execution_count": 48
        }
      ]
    },
    {
      "cell_type": "code",
      "metadata": {
        "colab": {
          "base_uri": "https://localhost:8080/",
          "height": 288
        },
        "id": "_aqhrQwOGi0d",
        "outputId": "ddc23d90-cb09-425f-f750-63e3c044860d"
      },
      "source": [
        "resultados.describe()"
      ],
      "execution_count": 49,
      "outputs": [
        {
          "output_type": "execute_result",
          "data": {
            "text/html": [
              "<div>\n",
              "<style scoped>\n",
              "    .dataframe tbody tr th:only-of-type {\n",
              "        vertical-align: middle;\n",
              "    }\n",
              "\n",
              "    .dataframe tbody tr th {\n",
              "        vertical-align: top;\n",
              "    }\n",
              "\n",
              "    .dataframe thead th {\n",
              "        text-align: right;\n",
              "    }\n",
              "</style>\n",
              "<table border=\"1\" class=\"dataframe\">\n",
              "  <thead>\n",
              "    <tr style=\"text-align: right;\">\n",
              "      <th></th>\n",
              "      <th>Arvore</th>\n",
              "      <th>Random_forest</th>\n",
              "      <th>KNN</th>\n",
              "      <th>Logistica</th>\n",
              "      <th>SVM</th>\n",
              "      <th>Rede neural</th>\n",
              "    </tr>\n",
              "  </thead>\n",
              "  <tbody>\n",
              "    <tr>\n",
              "      <th>count</th>\n",
              "      <td>30.000000</td>\n",
              "      <td>30.000000</td>\n",
              "      <td>30.000000</td>\n",
              "      <td>30.000000</td>\n",
              "      <td>30.000000</td>\n",
              "      <td>30.000000</td>\n",
              "    </tr>\n",
              "    <tr>\n",
              "      <th>mean</th>\n",
              "      <td>0.987233</td>\n",
              "      <td>0.987450</td>\n",
              "      <td>0.980200</td>\n",
              "      <td>0.946950</td>\n",
              "      <td>0.983950</td>\n",
              "      <td>0.997133</td>\n",
              "    </tr>\n",
              "    <tr>\n",
              "      <th>std</th>\n",
              "      <td>0.001823</td>\n",
              "      <td>0.001404</td>\n",
              "      <td>0.001270</td>\n",
              "      <td>0.000687</td>\n",
              "      <td>0.001155</td>\n",
              "      <td>0.000601</td>\n",
              "    </tr>\n",
              "    <tr>\n",
              "      <th>min</th>\n",
              "      <td>0.982500</td>\n",
              "      <td>0.985000</td>\n",
              "      <td>0.977500</td>\n",
              "      <td>0.945500</td>\n",
              "      <td>0.982000</td>\n",
              "      <td>0.995500</td>\n",
              "    </tr>\n",
              "    <tr>\n",
              "      <th>25%</th>\n",
              "      <td>0.986000</td>\n",
              "      <td>0.986500</td>\n",
              "      <td>0.979625</td>\n",
              "      <td>0.946500</td>\n",
              "      <td>0.983125</td>\n",
              "      <td>0.997000</td>\n",
              "    </tr>\n",
              "    <tr>\n",
              "      <th>50%</th>\n",
              "      <td>0.987250</td>\n",
              "      <td>0.987500</td>\n",
              "      <td>0.980000</td>\n",
              "      <td>0.947000</td>\n",
              "      <td>0.984000</td>\n",
              "      <td>0.997000</td>\n",
              "    </tr>\n",
              "    <tr>\n",
              "      <th>75%</th>\n",
              "      <td>0.988500</td>\n",
              "      <td>0.988000</td>\n",
              "      <td>0.981000</td>\n",
              "      <td>0.947500</td>\n",
              "      <td>0.984500</td>\n",
              "      <td>0.997500</td>\n",
              "    </tr>\n",
              "    <tr>\n",
              "      <th>max</th>\n",
              "      <td>0.990500</td>\n",
              "      <td>0.991500</td>\n",
              "      <td>0.983500</td>\n",
              "      <td>0.948500</td>\n",
              "      <td>0.987000</td>\n",
              "      <td>0.998000</td>\n",
              "    </tr>\n",
              "  </tbody>\n",
              "</table>\n",
              "</div>"
            ],
            "text/plain": [
              "          Arvore  Random_forest        KNN  Logistica        SVM  Rede neural\n",
              "count  30.000000      30.000000  30.000000  30.000000  30.000000    30.000000\n",
              "mean    0.987233       0.987450   0.980200   0.946950   0.983950     0.997133\n",
              "std     0.001823       0.001404   0.001270   0.000687   0.001155     0.000601\n",
              "min     0.982500       0.985000   0.977500   0.945500   0.982000     0.995500\n",
              "25%     0.986000       0.986500   0.979625   0.946500   0.983125     0.997000\n",
              "50%     0.987250       0.987500   0.980000   0.947000   0.984000     0.997000\n",
              "75%     0.988500       0.988000   0.981000   0.947500   0.984500     0.997500\n",
              "max     0.990500       0.991500   0.983500   0.948500   0.987000     0.998000"
            ]
          },
          "metadata": {
            "tags": []
          },
          "execution_count": 49
        }
      ]
    },
    {
      "cell_type": "code",
      "metadata": {
        "colab": {
          "base_uri": "https://localhost:8080/"
        },
        "id": "pLgfFTtGH-0g",
        "outputId": "2b2088f2-12b7-4f2f-a11c-fe31128c2b37"
      },
      "source": [
        "resultados.var()"
      ],
      "execution_count": 50,
      "outputs": [
        {
          "output_type": "execute_result",
          "data": {
            "text/plain": [
              "Arvore           3.322989e-06\n",
              "Random_forest    1.971552e-06\n",
              "KNN              1.613793e-06\n",
              "Logistica        4.715517e-07\n",
              "SVM              1.333621e-06\n",
              "Rede neural      3.609195e-07\n",
              "dtype: float64"
            ]
          },
          "metadata": {
            "tags": []
          },
          "execution_count": 50
        }
      ]
    },
    {
      "cell_type": "code",
      "metadata": {
        "colab": {
          "base_uri": "https://localhost:8080/"
        },
        "id": "vnTudjWjIDu6",
        "outputId": "9fc1a14b-e3ab-409f-f3bd-b651118ba093"
      },
      "source": [
        "(resultados.std()/resultados.mean()) * 100"
      ],
      "execution_count": 52,
      "outputs": [
        {
          "output_type": "execute_result",
          "data": {
            "text/plain": [
              "Arvore           0.184648\n",
              "Random_forest    0.142197\n",
              "KNN              0.129601\n",
              "Logistica        0.072517\n",
              "SVM              0.117366\n",
              "Rede neural      0.060249\n",
              "dtype: float64"
            ]
          },
          "metadata": {
            "tags": []
          },
          "execution_count": 52
        }
      ]
    },
    {
      "cell_type": "markdown",
      "metadata": {
        "id": "KU0QCpmZNe1h"
      },
      "source": [
        "##Teste de Normalidade nos Resultados"
      ]
    },
    {
      "cell_type": "code",
      "metadata": {
        "id": "ZGSgT_sYNiy3"
      },
      "source": [
        "alpha = 0.05"
      ],
      "execution_count": 53,
      "outputs": []
    },
    {
      "cell_type": "code",
      "metadata": {
        "id": "QluQGdguNrqL"
      },
      "source": [
        "from scipy.stats import shapiro"
      ],
      "execution_count": 54,
      "outputs": []
    },
    {
      "cell_type": "code",
      "metadata": {
        "colab": {
          "base_uri": "https://localhost:8080/"
        },
        "id": "UElgDvhfNwxv",
        "outputId": "73c860d5-1746-46e0-8ed8-07263e32ac57"
      },
      "source": [
        "shapiro(resultados_arvore), shapiro(resultados_random_forest), shapiro(resultados_knn), shapiro(resultados_logistica),shapiro(resultados_svm), shapiro(resultados_rede_neural)"
      ],
      "execution_count": 57,
      "outputs": [
        {
          "output_type": "execute_result",
          "data": {
            "text/plain": [
              "((0.9725302457809448, 0.6104708313941956),\n",
              " (0.951496958732605, 0.1853843629360199),\n",
              " (0.9244088530540466, 0.03495403751730919),\n",
              " (0.9370993375778198, 0.07600117474794388),\n",
              " (0.9658124446868896, 0.4317886233329773),\n",
              " (0.9069658517837524, 0.012486547231674194))"
            ]
          },
          "metadata": {
            "tags": []
          },
          "execution_count": 57
        }
      ]
    },
    {
      "cell_type": "code",
      "metadata": {
        "colab": {
          "base_uri": "https://localhost:8080/",
          "height": 369
        },
        "id": "QC5pMaLFOamU",
        "outputId": "17745148-467d-42a4-d737-cd25e519a14b"
      },
      "source": [
        "import seaborn as sns\n",
        "sns.displot(resultados_arvore, kind = 'kde');"
      ],
      "execution_count": 59,
      "outputs": [
        {
          "output_type": "display_data",
          "data": {
            "image/png": "[encoded data removed]",
            "text/plain": [
              "<Figure size 360x360 with 1 Axes>"
            ]
          },
          "metadata": {
            "tags": [],
            "needs_background": "light"
          }
        }
      ]
    },
    {
      "cell_type": "code",
      "metadata": {
        "colab": {
          "base_uri": "https://localhost:8080/",
          "height": 369
        },
        "id": "n_HoDflhOxVe",
        "outputId": "188b573e-2711-424f-cad3-7171b2da28ee"
      },
      "source": [
        "sns.displot(resultados_random_forest, kind = 'kde');"
      ],
      "execution_count": 60,
      "outputs": [
        {
          "output_type": "display_data",
          "data": {
            "image/png": "[encoded data removed]",
            "text/plain": [
              "<Figure size 360x360 with 1 Axes>"
            ]
          },
          "metadata": {
            "tags": [],
            "needs_background": "light"
          }
        }
      ]
    },
    {
      "cell_type": "code",
      "metadata": {
        "colab": {
          "base_uri": "https://localhost:8080/",
          "height": 369
        },
        "id": "YVDCXRjqOzDS",
        "outputId": "8a88699f-df56-4362-e2b8-bdf36bc6af7f"
      },
      "source": [
        "sns.displot(resultados_knn, kind = 'kde');"
      ],
      "execution_count": 61,
      "outputs": [
        {
          "output_type": "display_data",
          "data": {
            "image/png": "[encoded data removed]",
            "text/plain": [
              "<Figure size 360x360 with 1 Axes>"
            ]
          },
          "metadata": {
            "tags": [],
            "needs_background": "light"
          }
        }
      ]
    },
    {
      "cell_type": "code",
      "metadata": {
        "colab": {
          "base_uri": "https://localhost:8080/",
          "height": 369
        },
        "id": "w72dmPKuO0um",
        "outputId": "10e9fa8e-a0b0-4eb8-a085-5012cd7d96ae"
      },
      "source": [
        "sns.displot(resultados_logistica, kind = 'kde');"
      ],
      "execution_count": 62,
      "outputs": [
        {
          "output_type": "display_data",
          "data": {
            "image/png": "[encoded data removed]",
            "text/plain": [
              "<Figure size 360x360 with 1 Axes>"
            ]
          },
          "metadata": {
            "tags": [],
            "needs_background": "light"
          }
        }
      ]
    },
    {
      "cell_type": "code",
      "metadata": {
        "colab": {
          "base_uri": "https://localhost:8080/",
          "height": 369
        },
        "id": "MHNrTTYWO2cN",
        "outputId": "1eee2cb4-620d-4d53-fd06-bbf75322cebf"
      },
      "source": [
        "sns.displot(resultados_svm, kind = 'kde');"
      ],
      "execution_count": 63,
      "outputs": [
        {
          "output_type": "display_data",
          "data": {
            "image/png": "[encoded data removed]",
            "text/plain": [
              "<Figure size 360x360 with 1 Axes>"
            ]
          },
          "metadata": {
            "tags": [],
            "needs_background": "light"
          }
        }
      ]
    },
    {
      "cell_type": "code",
      "metadata": {
        "colab": {
          "base_uri": "https://localhost:8080/",
          "height": 369
        },
        "id": "8Y71COqfO4Sf",
        "outputId": "8cb76f7d-e0ae-4f9c-8552-f183853fc8c8"
      },
      "source": [
        "sns.displot(resultados_rede_neural, kind = 'kde');"
      ],
      "execution_count": 64,
      "outputs": [
        {
          "output_type": "display_data",
          "data": {
            "image/png": "[encoded data removed]",
            "text/plain": [
              "<Figure size 360x360 with 1 Axes>"
            ]
          },
          "metadata": {
            "tags": [],
            "needs_background": "light"
          }
        }
      ]
    }
  ]
}