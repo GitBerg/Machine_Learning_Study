{
  "nbformat": 4,
  "nbformat_minor": 0,
  "metadata": {
    "colab": {
      "name": "Machine_Learning_Combinação_e_Rejeição_de_Classificadores.ipynb",
      "provenance": [],
      "authorship_tag": "ABX9TyP4SXHU0oALJetxQ/pRWGjZ",
      "include_colab_link": true
    },
    "kernelspec": {
      "name": "python3",
      "display_name": "Python 3"
    },
    "language_info": {
      "name": "python"
    }
  },
  "cells": [
    {
      "cell_type": "markdown",
      "metadata": {
        "id": "view-in-github",
        "colab_type": "text"
      },
      "source": [
        "<a href=\"https://colab.research.google.com/github/GitBerg/Machine_Learning_Study/blob/master/10-Combina%C3%A7%C3%A3o%20e%20rejei%C3%A7%C3%A3o%20de%20classificadores/Machine_Learning_Combina%C3%A7%C3%A3o_e_Rejei%C3%A7%C3%A3o_de_Classificadores.ipynb\" target=\"_parent\"><img src=\"https://colab.research.google.com/assets/colab-badge.svg\" alt=\"Open In Colab\"/></a>"
      ]
    },
    {
      "cell_type": "markdown",
      "metadata": {
        "id": "mzAglV3Fgr8z"
      },
      "source": [
        "#Combinação de Classificadores"
      ]
    },
    {
      "cell_type": "code",
      "metadata": {
        "id": "XnwATRbQf4d5"
      },
      "source": [
        "import pickle\n",
        "with open('credit.pkl', 'rb') as f:\n",
        "  X_credit_treinamento, y_credit_treinamento, X_credit_teste, y_credit_teste = pickle.load(f)"
      ],
      "execution_count": 5,
      "outputs": []
    },
    {
      "cell_type": "code",
      "metadata": {
        "colab": {
          "base_uri": "https://localhost:8080/"
        },
        "id": "3OW_YYSKjt8k",
        "outputId": "d325d5ba-05cf-4e68-9a92-5b07e8bd0aef"
      },
      "source": [
        "import numpy as np\n",
        "X_credit = np.concatenate((X_credit_treinamento, X_credit_teste), axis = 0)\n",
        "X_credit.shape"
      ],
      "execution_count": 6,
      "outputs": [
        {
          "output_type": "execute_result",
          "data": {
            "text/plain": [
              "(2000, 3)"
            ]
          },
          "metadata": {
            "tags": []
          },
          "execution_count": 6
        }
      ]
    },
    {
      "cell_type": "code",
      "metadata": {
        "colab": {
          "base_uri": "https://localhost:8080/"
        },
        "id": "KXso0DbTjv3v",
        "outputId": "82ee5ffc-d3be-4681-867d-1fea7bfe8322"
      },
      "source": [
        "y_credit = np.concatenate((y_credit_treinamento, y_credit_teste), axis = 0)\n",
        "y_credit.shape"
      ],
      "execution_count": 7,
      "outputs": [
        {
          "output_type": "execute_result",
          "data": {
            "text/plain": [
              "(2000,)"
            ]
          },
          "metadata": {
            "tags": []
          },
          "execution_count": 7
        }
      ]
    },
    {
      "cell_type": "code",
      "metadata": {
        "colab": {
          "base_uri": "https://localhost:8080/"
        },
        "id": "9aJhg5I1kGuf",
        "outputId": "21d199d2-8881-41a2-9bba-c522c54883e3"
      },
      "source": [
        "novo_registro = X_credit[0]\n",
        "novo_registro = novo_registro.reshape(1, -1)\n",
        "novo_registro, novo_registro.shape"
      ],
      "execution_count": 11,
      "outputs": [
        {
          "output_type": "execute_result",
          "data": {
            "text/plain": [
              "(array([[-1.3754462 ,  0.50631087,  0.10980934]]), (1, 3))"
            ]
          },
          "metadata": {
            "tags": []
          },
          "execution_count": 11
        }
      ]
    },
    {
      "cell_type": "code",
      "metadata": {
        "id": "LUoKw0hFkM9h"
      },
      "source": [
        "rede_neural = pickle.load(open('rede_neural_finalizado.sav' , 'rb'))\n",
        "arvore = pickle.load(open('arvore_finalizado.sav', 'rb'))\n",
        "svm = pickle.load(open('svm_finalizado.sav', 'rb'))"
      ],
      "execution_count": 35,
      "outputs": []
    },
    {
      "cell_type": "code",
      "metadata": {
        "id": "4Fspv5LIGDPx"
      },
      "source": [
        "resposta_rede_neural = rede_neural.predict(novo_registro)\n",
        "resposta_arvore = arvore.predict(novo_registro)\n",
        "resposta_svm = svm.predict(novo_registro)"
      ],
      "execution_count": 12,
      "outputs": []
    },
    {
      "cell_type": "code",
      "metadata": {
        "colab": {
          "base_uri": "https://localhost:8080/"
        },
        "id": "yYp_XaCLGgVU",
        "outputId": "99e9c47e-3e01-4343-f5dd-269f873ae6d8"
      },
      "source": [
        "resposta_rede_neural[0], resposta_arvore[0], resposta_svm[0]"
      ],
      "execution_count": 18,
      "outputs": [
        {
          "output_type": "execute_result",
          "data": {
            "text/plain": [
              "(0, 0, 0)"
            ]
          },
          "metadata": {
            "tags": []
          },
          "execution_count": 18
        }
      ]
    },
    {
      "cell_type": "code",
      "metadata": {
        "colab": {
          "base_uri": "https://localhost:8080/"
        },
        "id": "KWKu_c4eGmG8",
        "outputId": "2b56f702-07bd-4b14-e07b-9147497f2466"
      },
      "source": [
        "paga = 0\n",
        "nao_paga = 0\n",
        "\n",
        "if resposta_rede_neural[0] == 1:\n",
        "  nao_paga += 1\n",
        "else:\n",
        "  paga += 1\n",
        "\n",
        "if resposta_arvore[0] == 1:\n",
        "  nao_paga += 1\n",
        "else:\n",
        "  paga += 1\n",
        "\n",
        "if resposta_svm[0] == 1:\n",
        "  nao_paga += 1\n",
        "else:\n",
        "  paga += 1\n",
        "\n",
        "if paga > nao_paga:\n",
        "  print('Cliente pagará o empréstimo')\n",
        "elif paga == nao_paga:\n",
        "  print('Empate')\n",
        "else:\n",
        "  print('Cliente não pagará o empréstimo')"
      ],
      "execution_count": 14,
      "outputs": [
        {
          "output_type": "stream",
          "text": [
            "Cliente pagará o empréstimo\n"
          ],
          "name": "stdout"
        }
      ]
    },
    {
      "cell_type": "code",
      "metadata": {
        "colab": {
          "base_uri": "https://localhost:8080/"
        },
        "id": "s-WzsnQcHN1y",
        "outputId": "4e4766e9-3944-4d21-a7e7-2cedc30077a3"
      },
      "source": [
        "novo_registro = X_credit[1999]\n",
        "novo_registro = novo_registro.reshape(1, -1)\n",
        "novo_registro, novo_registro.shape"
      ],
      "execution_count": 15,
      "outputs": [
        {
          "output_type": "execute_result",
          "data": {
            "text/plain": [
              "(array([[-1.03572293, -0.93978122,  0.04244312]]), (1, 3))"
            ]
          },
          "metadata": {
            "tags": []
          },
          "execution_count": 15
        }
      ]
    },
    {
      "cell_type": "code",
      "metadata": {
        "id": "6quzpODmHeo5"
      },
      "source": [
        "resposta_rede_neural = rede_neural.predict(novo_registro)\n",
        "resposta_arvore = arvore.predict(novo_registro)\n",
        "resposta_svm = svm.predict(novo_registro)"
      ],
      "execution_count": 19,
      "outputs": []
    },
    {
      "cell_type": "code",
      "metadata": {
        "colab": {
          "base_uri": "https://localhost:8080/"
        },
        "id": "XZPQgqZLHSCb",
        "outputId": "93af51b5-b4ad-490a-9b17-a9335d846aee"
      },
      "source": [
        "resposta_rede_neural[0], resposta_arvore[0], resposta_svm[0]"
      ],
      "execution_count": 20,
      "outputs": [
        {
          "output_type": "execute_result",
          "data": {
            "text/plain": [
              "(1, 1, 1)"
            ]
          },
          "metadata": {
            "tags": []
          },
          "execution_count": 20
        }
      ]
    },
    {
      "cell_type": "code",
      "metadata": {
        "colab": {
          "base_uri": "https://localhost:8080/"
        },
        "id": "HxsUioKzHi3V",
        "outputId": "5b787b3f-c57a-4e31-fbbe-24fe8beaba74"
      },
      "source": [
        "paga = 0\n",
        "nao_paga = 0\n",
        "\n",
        "if resposta_rede_neural[0] == 1:\n",
        "  nao_paga += 1\n",
        "else:\n",
        "  paga += 1\n",
        "\n",
        "if resposta_arvore[0] == 1:\n",
        "  nao_paga += 1\n",
        "else:\n",
        "  paga += 1\n",
        "\n",
        "if resposta_svm[0] == 1:\n",
        "  nao_paga += 1\n",
        "else:\n",
        "  paga += 1\n",
        "\n",
        "if paga > nao_paga:\n",
        "  print('Cliente pagará o empréstimo')\n",
        "elif paga == nao_paga:\n",
        "  print('Empate')\n",
        "else:\n",
        "  print('Cliente não pagará o empréstimo')"
      ],
      "execution_count": 21,
      "outputs": [
        {
          "output_type": "stream",
          "text": [
            "Cliente não pagará o empréstimo\n"
          ],
          "name": "stdout"
        }
      ]
    },
    {
      "cell_type": "markdown",
      "metadata": {
        "id": "3A9H7bkjHqO6"
      },
      "source": [
        "##Rejeição de Classificadores"
      ]
    },
    {
      "cell_type": "code",
      "metadata": {
        "colab": {
          "base_uri": "https://localhost:8080/"
        },
        "id": "QGfWTi9kHtIl",
        "outputId": "b6e19c1a-ac68-4b39-e3ee-3b05731128a2"
      },
      "source": [
        "novo_registro = X_credit[0]\n",
        "novo_registro = novo_registro.reshape(1, -1)\n",
        "novo_registro, novo_registro.shape"
      ],
      "execution_count": 25,
      "outputs": [
        {
          "output_type": "execute_result",
          "data": {
            "text/plain": [
              "(array([[-1.3754462 ,  0.50631087,  0.10980934]]), (1, 3))"
            ]
          },
          "metadata": {
            "tags": []
          },
          "execution_count": 25
        }
      ]
    },
    {
      "cell_type": "code",
      "metadata": {
        "id": "Wm-NkSd7Hwyt"
      },
      "source": [
        "resposta_rede_neural = rede_neural.predict(novo_registro)\n",
        "resposta_arvore = arvore.predict(novo_registro)\n",
        "resposta_svm = svm.predict(novo_registro)"
      ],
      "execution_count": 26,
      "outputs": []
    },
    {
      "cell_type": "code",
      "metadata": {
        "colab": {
          "base_uri": "https://localhost:8080/"
        },
        "id": "lJz97zAhHzGB",
        "outputId": "ae5bcdb8-6169-4cd3-98c2-fa32d70538bb"
      },
      "source": [
        "resposta_rede_neural[0], resposta_arvore[0], resposta_svm[0]"
      ],
      "execution_count": 27,
      "outputs": [
        {
          "output_type": "execute_result",
          "data": {
            "text/plain": [
              "(0, 0, 0)"
            ]
          },
          "metadata": {
            "tags": []
          },
          "execution_count": 27
        }
      ]
    },
    {
      "cell_type": "code",
      "metadata": {
        "colab": {
          "base_uri": "https://localhost:8080/"
        },
        "id": "dvsyGDtPH5ds",
        "outputId": "127d4a71-3427-41b5-801a-6997ed331509"
      },
      "source": [
        "probabilidade_rede_neural = rede_neural.predict_proba(novo_registro)\n",
        "probabilidade_rede_neural"
      ],
      "execution_count": 28,
      "outputs": [
        {
          "output_type": "execute_result",
          "data": {
            "text/plain": [
              "array([[1.00000000e+00, 8.67906124e-17]])"
            ]
          },
          "metadata": {
            "tags": []
          },
          "execution_count": 28
        }
      ]
    },
    {
      "cell_type": "code",
      "metadata": {
        "colab": {
          "base_uri": "https://localhost:8080/"
        },
        "id": "ayzwEbRVIBse",
        "outputId": "24dbb37f-d8da-4b8e-8d82-9e5301f53262"
      },
      "source": [
        "confianca_rede_neural = probabilidade_rede_neural.max()\n",
        "confianca_rede_neural"
      ],
      "execution_count": 29,
      "outputs": [
        {
          "output_type": "execute_result",
          "data": {
            "text/plain": [
              "0.9999999999999999"
            ]
          },
          "metadata": {
            "tags": []
          },
          "execution_count": 29
        }
      ]
    },
    {
      "cell_type": "code",
      "metadata": {
        "colab": {
          "base_uri": "https://localhost:8080/"
        },
        "id": "kCihJNLyIG_d",
        "outputId": "fa93420f-1193-4f86-f249-9fa4ab51fffa"
      },
      "source": [
        "probabilidade_arvore = arvore.predict_proba(novo_registro)\n",
        "confianca_arvore = probabilidade_arvore.max()\n",
        "confianca_arvore"
      ],
      "execution_count": 32,
      "outputs": [
        {
          "output_type": "execute_result",
          "data": {
            "text/plain": [
              "1.0"
            ]
          },
          "metadata": {
            "tags": []
          },
          "execution_count": 32
        }
      ]
    },
    {
      "cell_type": "code",
      "metadata": {
        "colab": {
          "base_uri": "https://localhost:8080/"
        },
        "id": "LCM7Prp8IWW5",
        "outputId": "11370740-6912-43fe-b26d-01a5535107e0"
      },
      "source": [
        "probabilidade_svm = svm.predict_proba(novo_registro)\n",
        "confianca_svm = probabilidade_svm.max()\n",
        "confianca_svm"
      ],
      "execution_count": 36,
      "outputs": [
        {
          "output_type": "execute_result",
          "data": {
            "text/plain": [
              "0.9999974616722663"
            ]
          },
          "metadata": {
            "tags": []
          },
          "execution_count": 36
        }
      ]
    },
    {
      "cell_type": "code",
      "metadata": {
        "colab": {
          "base_uri": "https://localhost:8080/"
        },
        "id": "1UOOUq24Iqv9",
        "outputId": "4e11de22-6b5e-477e-aacf-c66216b5ff47"
      },
      "source": [
        "paga = 0\n",
        "nao_paga = 0\n",
        "confianca_min = 0.999999\n",
        "algoritmos = 0\n",
        "\n",
        "if confianca_rede_neural >= confianca_min:\n",
        "  algoritmos += 1\n",
        "  if resposta_rede_neural[0] == 1:\n",
        "    nao_paga += 1\n",
        "  else:\n",
        "    paga += 1\n",
        "\n",
        "if confianca_arvore >= confianca_min:\n",
        "  algoritmos += 1\n",
        "  if resposta_arvore[0] == 1:\n",
        "    nao_paga += 1\n",
        "  else:\n",
        "    paga += 1\n",
        "\n",
        "if confianca_svm >= confianca_min:\n",
        "  algoritmos += 1\n",
        "  if resposta_svm[0] == 1:\n",
        "    nao_paga += 1\n",
        "  else:\n",
        "    paga += 1\n",
        "\n",
        "if paga > nao_paga:\n",
        "  print('Cliente pagará o empréstimo, baseado em {} algoritmos'.format(algoritmos))\n",
        "elif paga == nao_paga:\n",
        "  print('Empate, baseado em {} algoritmos'.format(algoritmos))\n",
        "else:\n",
        "  print('Cliente não pagará o empréstimo, baseado em {} algoritmos'.format(algoritmos))"
      ],
      "execution_count": 40,
      "outputs": [
        {
          "output_type": "stream",
          "text": [
            "Cliente pagará o empréstimo, baseado em 2 algoritmos\n"
          ],
          "name": "stdout"
        }
      ]
    }
  ]
}