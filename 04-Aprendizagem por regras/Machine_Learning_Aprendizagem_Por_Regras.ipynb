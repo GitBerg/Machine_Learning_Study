{
  "nbformat": 4,
  "nbformat_minor": 0,
  "metadata": {
    "colab": {
      "name": "Machine_Learning_Aprendizagem_Por_Regras.ipynb",
      "provenance": [],
      "collapsed_sections": [],
      "authorship_tag": "ABX9TyN/C1o1/YxTe+FDjifMEnD6",
      "include_colab_link": true
    },
    "kernelspec": {
      "name": "python3",
      "display_name": "Python 3"
    },
    "language_info": {
      "name": "python"
    }
  },
  "cells": [
    {
      "cell_type": "markdown",
      "metadata": {
        "id": "view-in-github",
        "colab_type": "text"
      },
      "source": [
        "<a href=\"https://colab.research.google.com/github/GitBerg/Machine_Learning_Study/blob/master/04-Aprendizagem%20por%20regras/Machine_Learning_Aprendizagem_Por_Regras.ipynb\" target=\"_parent\"><img src=\"https://colab.research.google.com/assets/colab-badge.svg\" alt=\"Open In Colab\"/></a>"
      ]
    },
    {
      "cell_type": "markdown",
      "metadata": {
        "id": "2vMSymJ5UdTn"
      },
      "source": [
        "#**Aprendizagem por regras**"
      ]
    },
    {
      "cell_type": "code",
      "metadata": {
        "colab": {
          "base_uri": "https://localhost:8080/"
        },
        "id": "2ze6kMchTl9N",
        "outputId": "14487b9f-2062-44d3-b6b1-7f338d3637c3"
      },
      "source": [
        "!pip install plotly --upgrade"
      ],
      "execution_count": 1,
      "outputs": [
        {
          "output_type": "stream",
          "text": [
            "Collecting plotly\n",
            "\u001b[?25l  Downloading https://files.pythonhosted.org/packages/1f/f6/bd3c17c8003b6641df1228e80e1acac97ed8402635e46c2571f8e1ef63af/plotly-4.14.3-py2.py3-none-any.whl (13.2MB)\n",
            "\u001b[K     |████████████████████████████████| 13.2MB 5.1MB/s \n",
            "\u001b[?25hRequirement already satisfied, skipping upgrade: retrying>=1.3.3 in /usr/local/lib/python3.7/dist-packages (from plotly) (1.3.3)\n",
            "Requirement already satisfied, skipping upgrade: six in /usr/local/lib/python3.7/dist-packages (from plotly) (1.15.0)\n",
            "Installing collected packages: plotly\n",
            "  Found existing installation: plotly 4.4.1\n",
            "    Uninstalling plotly-4.4.1:\n",
            "      Successfully uninstalled plotly-4.4.1\n",
            "Successfully installed plotly-4.14.3\n"
          ],
          "name": "stdout"
        }
      ]
    },
    {
      "cell_type": "code",
      "metadata": {
        "id": "yJ44H3KzZm9h"
      },
      "source": [
        "import pandas as pd\n",
        "import numpy as np\n",
        "import seaborn as sns\n",
        "import matplotlib.pyplot as plt\n",
        "import plotly.express as px"
      ],
      "execution_count": 2,
      "outputs": []
    },
    {
      "cell_type": "code",
      "metadata": {
        "id": "_IMiBPZtZrLk"
      },
      "source": [
        "!pip install Orange3"
      ],
      "execution_count": null,
      "outputs": []
    },
    {
      "cell_type": "code",
      "metadata": {
        "id": "jAPOADfJqVGP"
      },
      "source": [
        "import Orange"
      ],
      "execution_count": 4,
      "outputs": []
    },
    {
      "cell_type": "markdown",
      "metadata": {
        "id": "lttNWcZ_qYEw"
      },
      "source": [
        "#**Base Risco De Crédito**"
      ]
    },
    {
      "cell_type": "code",
      "metadata": {
        "id": "CGgY98vBqc7j"
      },
      "source": [
        "base_risc_credit = Orange.data.Table('risco_credito_regras.csv')"
      ],
      "execution_count": 7,
      "outputs": []
    },
    {
      "cell_type": "code",
      "metadata": {
        "colab": {
          "base_uri": "https://localhost:8080/"
        },
        "id": "OF69sO2krHZw",
        "outputId": "efbdfa03-2764-4851-cbf8-77d57ae2aa39"
      },
      "source": [
        "base_risc_credit"
      ],
      "execution_count": 8,
      "outputs": [
        {
          "output_type": "execute_result",
          "data": {
            "text/plain": [
              "[[ruim, alta, nenhuma, 0_15 | alto],\n",
              " [desconhecida, alta, nenhuma, 15_35 | alto],\n",
              " [desconhecida, baixa, nenhuma, 15_35 | moderado],\n",
              " [desconhecida, baixa, nenhuma, acima_35 | alto],\n",
              " [desconhecida, baixa, nenhuma, acima_35 | baixo],\n",
              " ...\n",
              "]"
            ]
          },
          "metadata": {
            "tags": []
          },
          "execution_count": 8
        }
      ]
    },
    {
      "cell_type": "code",
      "metadata": {
        "colab": {
          "base_uri": "https://localhost:8080/"
        },
        "id": "d44cfmJerNVE",
        "outputId": "12f22ad9-ff0e-40dd-851c-1a5f4365d010"
      },
      "source": [
        "base_risc_credit.domain"
      ],
      "execution_count": 9,
      "outputs": [
        {
          "output_type": "execute_result",
          "data": {
            "text/plain": [
              "[historia, divida, garantias, renda | risco]"
            ]
          },
          "metadata": {
            "tags": []
          },
          "execution_count": 9
        }
      ]
    },
    {
      "cell_type": "code",
      "metadata": {
        "id": "3ZV3zikwrRUv"
      },
      "source": [
        "cn2 = Orange.classification.rules.CN2Learner()\n",
        "regras_risc_credit = cn2(base_risc_credit)"
      ],
      "execution_count": 11,
      "outputs": []
    },
    {
      "cell_type": "code",
      "metadata": {
        "colab": {
          "base_uri": "https://localhost:8080/"
        },
        "id": "9FLxqoQmrliQ",
        "outputId": "750b3c82-5529-4f32-a192-69cfac272d94"
      },
      "source": [
        "for regras in regras_risc_credit.rule_list:\n",
        "  print(regras)"
      ],
      "execution_count": 12,
      "outputs": [
        {
          "output_type": "stream",
          "text": [
            "IF renda==0_15 THEN risco=alto \n",
            "IF historia==boa AND divida!=alta THEN risco=baixo \n",
            "IF historia==boa AND garantias!=nenhuma THEN risco=baixo \n",
            "IF historia==boa AND renda!=15_35 THEN risco=baixo \n",
            "IF historia==boa THEN risco=moderado \n",
            "IF divida==alta THEN risco=alto \n",
            "IF historia!=desconhecida THEN risco=moderado \n",
            "IF garantias==adequada THEN risco=baixo \n",
            "IF renda==15_35 THEN risco=moderado \n",
            "IF historia==desconhecida THEN risco=alto \n",
            "IF TRUE THEN risco=alto \n"
          ],
          "name": "stdout"
        }
      ]
    },
    {
      "cell_type": "code",
      "metadata": {
        "colab": {
          "base_uri": "https://localhost:8080/"
        },
        "id": "86XJFJ4SrukA",
        "outputId": "d9f4b8ac-657e-4cf8-871e-f9cea09177ec"
      },
      "source": [
        "previsoes = regras_risc_credit([['boa', 'alta', 'nenhuma', 'acima_35'],['ruim','alta', 'adequada', '0_15']])\n",
        "previsoes"
      ],
      "execution_count": 13,
      "outputs": [
        {
          "output_type": "execute_result",
          "data": {
            "text/plain": [
              "array([1, 0])"
            ]
          },
          "metadata": {
            "tags": []
          },
          "execution_count": 13
        }
      ]
    },
    {
      "cell_type": "code",
      "metadata": {
        "colab": {
          "base_uri": "https://localhost:8080/"
        },
        "id": "E6nz4jXdsHJ-",
        "outputId": "75b7957e-0bf7-41ac-fec3-6f5edb2b70ad"
      },
      "source": [
        "base_risc_credit.domain.class_var.values"
      ],
      "execution_count": 15,
      "outputs": [
        {
          "output_type": "execute_result",
          "data": {
            "text/plain": [
              "('alto', 'baixo', 'moderado')"
            ]
          },
          "metadata": {
            "tags": []
          },
          "execution_count": 15
        }
      ]
    },
    {
      "cell_type": "code",
      "metadata": {
        "colab": {
          "base_uri": "https://localhost:8080/"
        },
        "id": "-SiGljp2sO16",
        "outputId": "ac4b64ea-ed37-49ce-fe60-cead2dbb2ba5"
      },
      "source": [
        "for i in previsoes:\n",
        "  print(base_risc_credit.domain.class_var.values[i])"
      ],
      "execution_count": 18,
      "outputs": [
        {
          "output_type": "stream",
          "text": [
            "baixo\n",
            "alto\n"
          ],
          "name": "stdout"
        }
      ]
    },
    {
      "cell_type": "markdown",
      "metadata": {
        "id": "eYBnta5Ps1wO"
      },
      "source": [
        "#**Base Credit Data**"
      ]
    },
    {
      "cell_type": "code",
      "metadata": {
        "id": "Q6E4yhkts4qm"
      },
      "source": [
        "base_credit = Orange.data.Table('credit_data_regras.csv')"
      ],
      "execution_count": 19,
      "outputs": []
    },
    {
      "cell_type": "code",
      "metadata": {
        "colab": {
          "base_uri": "https://localhost:8080/"
        },
        "id": "kVWhS2KstGBq",
        "outputId": "676d1aea-d47f-4aab-d99e-cc0b1036d240"
      },
      "source": [
        "base_credit"
      ],
      "execution_count": 20,
      "outputs": [
        {
          "output_type": "execute_result",
          "data": {
            "text/plain": [
              "[[66155.9, 59.017, 8106.53 | 0],\n",
              " [34415.2, 48.1172, 6564.75 | 0],\n",
              " [57317.2, 63.108, 8020.95 | 0],\n",
              " [42709.5, 45.752, 6103.64 | 0],\n",
              " [66952.7, 18.5843, 8770.1 | 1],\n",
              " ...\n",
              "]"
            ]
          },
          "metadata": {
            "tags": []
          },
          "execution_count": 20
        }
      ]
    },
    {
      "cell_type": "code",
      "metadata": {
        "colab": {
          "base_uri": "https://localhost:8080/"
        },
        "id": "AysmlDzhtJCv",
        "outputId": "8d58135c-4145-48e4-c13c-26ae32cc83e3"
      },
      "source": [
        "base_credit.domain"
      ],
      "execution_count": 21,
      "outputs": [
        {
          "output_type": "execute_result",
          "data": {
            "text/plain": [
              "[income, age, loan | default]"
            ]
          },
          "metadata": {
            "tags": []
          },
          "execution_count": 21
        }
      ]
    },
    {
      "cell_type": "code",
      "metadata": {
        "colab": {
          "base_uri": "https://localhost:8080/"
        },
        "id": "1XtlARJLtRdk",
        "outputId": "2f2c603c-c14e-40fb-c52b-acd93049def2"
      },
      "source": [
        "base_dividida = Orange.evaluation.testing.sample(base_credit, n = 0.25)\n",
        "base_dividida"
      ],
      "execution_count": 23,
      "outputs": [
        {
          "output_type": "execute_result",
          "data": {
            "text/plain": [
              "([[41285.4, 22.9111, 532.1 | 0],\n",
              "  [34730.2, 63.3762, 818.508 | 0],\n",
              "  [36116.4, 22.5359, 1494.98 | 0],\n",
              "  [49292.3, 20.6223, 967.135 | 0],\n",
              "  [41174.8, 52.3394, 2888.44 | 0],\n",
              "  ...\n",
              " ], [[54925.5, 40.8056, 554.488 | 0],\n",
              "  [57676.7, 20.6656, 10504.7 | 1],\n",
              "  [56510.8, 47.3083, 9255.44 | 0],\n",
              "  [41255.9, 45.5833, 5296.91 | 0],\n",
              "  [22372.5, 31.493, 1118.93 | 0],\n",
              "  ...\n",
              " ])"
            ]
          },
          "metadata": {
            "tags": []
          },
          "execution_count": 23
        }
      ]
    },
    {
      "cell_type": "code",
      "metadata": {
        "colab": {
          "base_uri": "https://localhost:8080/"
        },
        "id": "r2aBQMs4tfsr",
        "outputId": "ac33b06b-0c3e-4b17-cb38-6298c0aacc33"
      },
      "source": [
        "base_dividida[0]"
      ],
      "execution_count": 24,
      "outputs": [
        {
          "output_type": "execute_result",
          "data": {
            "text/plain": [
              "[[41285.4, 22.9111, 532.1 | 0],\n",
              " [34730.2, 63.3762, 818.508 | 0],\n",
              " [36116.4, 22.5359, 1494.98 | 0],\n",
              " [49292.3, 20.6223, 967.135 | 0],\n",
              " [41174.8, 52.3394, 2888.44 | 0],\n",
              " ...\n",
              "]"
            ]
          },
          "metadata": {
            "tags": []
          },
          "execution_count": 24
        }
      ]
    },
    {
      "cell_type": "code",
      "metadata": {
        "colab": {
          "base_uri": "https://localhost:8080/"
        },
        "id": "pHg9MiV_th0-",
        "outputId": "a24c38e5-c162-4bdf-a8fe-5d7dbf5e8479"
      },
      "source": [
        "base_dividida[1]"
      ],
      "execution_count": 25,
      "outputs": [
        {
          "output_type": "execute_result",
          "data": {
            "text/plain": [
              "[[54925.5, 40.8056, 554.488 | 0],\n",
              " [57676.7, 20.6656, 10504.7 | 1],\n",
              " [56510.8, 47.3083, 9255.44 | 0],\n",
              " [41255.9, 45.5833, 5296.91 | 0],\n",
              " [22372.5, 31.493, 1118.93 | 0],\n",
              " ...\n",
              "]"
            ]
          },
          "metadata": {
            "tags": []
          },
          "execution_count": 25
        }
      ]
    },
    {
      "cell_type": "code",
      "metadata": {
        "id": "3nPSbzD3tk-C"
      },
      "source": [
        "base_treinamento = base_dividida[1]\n",
        "base_teste = base_dividida[0]"
      ],
      "execution_count": 26,
      "outputs": []
    },
    {
      "cell_type": "code",
      "metadata": {
        "colab": {
          "base_uri": "https://localhost:8080/"
        },
        "id": "sT3wMAVOtsZS",
        "outputId": "986c073c-cbb3-4c16-a8b1-0dee35e47e82"
      },
      "source": [
        "len(base_treinamento), len(base_teste)"
      ],
      "execution_count": 27,
      "outputs": [
        {
          "output_type": "execute_result",
          "data": {
            "text/plain": [
              "(1500, 500)"
            ]
          },
          "metadata": {
            "tags": []
          },
          "execution_count": 27
        }
      ]
    },
    {
      "cell_type": "code",
      "metadata": {
        "id": "UlMSGTWJtyEi"
      },
      "source": [
        "cn2 = Orange.classification.rules.CN2Learner()\n",
        "regras_credit = cn2(base_treinamento)"
      ],
      "execution_count": 28,
      "outputs": []
    },
    {
      "cell_type": "code",
      "metadata": {
        "colab": {
          "base_uri": "https://localhost:8080/"
        },
        "id": "3b6L6Astt-cW",
        "outputId": "1377370b-c695-4958-a0ba-c2c41e701230"
      },
      "source": [
        "for regras in regras_credit.rule_list:\n",
        "  print(regras)"
      ],
      "execution_count": 29,
      "outputs": [
        {
          "output_type": "stream",
          "text": [
            "IF age>=34.9257164876908 THEN default=0 \n",
            "IF loan<=2495.13299137587 AND income>=20145.9885970689 THEN default=0 \n",
            "IF loan>=7181.4785525792595 AND loan>=8034.74777409028 THEN default=1 \n",
            "IF income>=58132.4712652713 THEN default=0 \n",
            "IF loan>=6342.56790924236 THEN default=1 \n",
            "IF income>=46801.274286117405 AND income>=50501.7266888171 THEN default=0 \n",
            "IF loan>=5862.83302915672 THEN default=1 \n",
            "IF income>=45971.133494749694 THEN default=0 \n",
            "IF loan<=3105.4430213977303 AND income>=27407.056202646298 THEN default=0 \n",
            "IF loan>=5193.83819663771 THEN default=1 \n",
            "IF age>=34.7514377613552 THEN default=1 \n",
            "IF age>=34.7410444347188 THEN default=0 \n",
            "IF loan>=5154.909842680399 THEN default=0 \n",
            "IF loan>=5061.77783089573 THEN default=1 \n",
            "IF loan>=5036.25528047363 THEN default=0 \n",
            "IF loan>=4849.33378471958 THEN default=1 \n",
            "IF loan>=4749.06867530672 THEN default=0 \n",
            "IF income<=31702.3342987522 AND loan>=3665.88089899456 THEN default=1 \n",
            "IF income>=31702.3342987522 AND income>=38423.0842860416 THEN default=0 \n",
            "IF income<=31702.3342987522 AND loan>=3587.7223890690298 THEN default=0 \n",
            "IF income<=32306.8084008992 AND age>=22.656479598488698 THEN default=1 \n",
            "IF income>=38011.7266485468 THEN default=1 \n",
            "IF income>=34145.7995516248 THEN default=0 \n",
            "IF loan>=4285.38691174949 THEN default=1 \n",
            "IF income>=32306.8084008992 THEN default=0 \n",
            "IF income>=26218.4948474169 THEN default=1 \n",
            "IF income<=24857.6948815025 THEN default=0 \n",
            "IF TRUE THEN default=0 \n"
          ],
          "name": "stdout"
        }
      ]
    },
    {
      "cell_type": "code",
      "metadata": {
        "id": "Qn3VwYs6uL9e"
      },
      "source": [
        "previsoes = Orange.evaluation.testing.TestOnTestData(base_treinamento, base_teste,[lambda testdata: regras_credit])"
      ],
      "execution_count": 30,
      "outputs": []
    },
    {
      "cell_type": "code",
      "metadata": {
        "colab": {
          "base_uri": "https://localhost:8080/"
        },
        "id": "olN9QISDuZPc",
        "outputId": "64249b09-0857-41e1-ea4d-86694c522081"
      },
      "source": [
        "previsoes"
      ],
      "execution_count": 31,
      "outputs": [
        {
          "output_type": "execute_result",
          "data": {
            "text/plain": [
              "<Orange.evaluation.testing.Results at 0x7fb1cba0f8d0>"
            ]
          },
          "metadata": {
            "tags": []
          },
          "execution_count": 31
        }
      ]
    },
    {
      "cell_type": "code",
      "metadata": {
        "colab": {
          "base_uri": "https://localhost:8080/"
        },
        "id": "VcJUneMRucD4",
        "outputId": "9aacfd9d-f266-414f-bf0d-367e7d2b2680"
      },
      "source": [
        "Orange.evaluation.CA(previsoes)"
      ],
      "execution_count": 32,
      "outputs": [
        {
          "output_type": "execute_result",
          "data": {
            "text/plain": [
              "array([0.978])"
            ]
          },
          "metadata": {
            "tags": []
          },
          "execution_count": 32
        }
      ]
    },
    {
      "cell_type": "markdown",
      "metadata": {
        "id": "4EG0C4HxxvDs"
      },
      "source": [
        "#**Classificador base -> Majority Learner**"
      ]
    },
    {
      "cell_type": "markdown",
      "metadata": {
        "id": "d42STKMAx3Ub"
      },
      "source": [
        "**Base Credit Data**"
      ]
    },
    {
      "cell_type": "code",
      "metadata": {
        "colab": {
          "base_uri": "https://localhost:8080/"
        },
        "id": "Xtr_hNfRx2H7",
        "outputId": "f65daa35-6387-41c0-b784-a5b1271edab1"
      },
      "source": [
        "base_credit.domain"
      ],
      "execution_count": 34,
      "outputs": [
        {
          "output_type": "execute_result",
          "data": {
            "text/plain": [
              "[income, age, loan | default]"
            ]
          },
          "metadata": {
            "tags": []
          },
          "execution_count": 34
        }
      ]
    },
    {
      "cell_type": "code",
      "metadata": {
        "id": "ldHJ2myHyKVa"
      },
      "source": [
        "majority = Orange.classification.MajorityLearner()"
      ],
      "execution_count": 36,
      "outputs": []
    },
    {
      "cell_type": "code",
      "metadata": {
        "id": "bdZPYbduyOyK"
      },
      "source": [
        "previsoes = Orange.evaluation.testing.TestOnTestData(base_credit, base_credit,[majority])"
      ],
      "execution_count": 37,
      "outputs": []
    },
    {
      "cell_type": "code",
      "metadata": {
        "colab": {
          "base_uri": "https://localhost:8080/"
        },
        "id": "S9ecJ77Tydnt",
        "outputId": "238f3b81-4b3b-453f-d9ce-ee0c9ec7c4d5"
      },
      "source": [
        "Orange.evaluation.CA(previsoes)"
      ],
      "execution_count": 38,
      "outputs": [
        {
          "output_type": "execute_result",
          "data": {
            "text/plain": [
              "array([0.8585])"
            ]
          },
          "metadata": {
            "tags": []
          },
          "execution_count": 38
        }
      ]
    },
    {
      "cell_type": "code",
      "metadata": {
        "id": "docfAoTVyh4v"
      },
      "source": [
        "for registro in base_credit:\n",
        "  print(registro.get_class())"
      ],
      "execution_count": null,
      "outputs": []
    },
    {
      "cell_type": "code",
      "metadata": {
        "colab": {
          "base_uri": "https://localhost:8080/"
        },
        "id": "sCVtZ2qbysWs",
        "outputId": "8f2d860e-3df0-4e30-c6dc-56fba9338584"
      },
      "source": [
        "from collections import Counter\n",
        "Counter(str(registro.get_class())for registro in base_credit)"
      ],
      "execution_count": 42,
      "outputs": [
        {
          "output_type": "execute_result",
          "data": {
            "text/plain": [
              "Counter({'0': 1717, '1': 283})"
            ]
          },
          "metadata": {
            "tags": []
          },
          "execution_count": 42
        }
      ]
    },
    {
      "cell_type": "markdown",
      "metadata": {
        "id": "gOjY6YrzzR3L"
      },
      "source": [
        "#**Base Census**"
      ]
    },
    {
      "cell_type": "code",
      "metadata": {
        "id": "TUO0XTvDzUW9"
      },
      "source": [
        "base_census = Orange.data.Table('/content/census_regras.csv')"
      ],
      "execution_count": 43,
      "outputs": []
    },
    {
      "cell_type": "code",
      "metadata": {
        "colab": {
          "base_uri": "https://localhost:8080/"
        },
        "id": "3isxI9gOzp6o",
        "outputId": "292c2b0a-a67f-422d-c6f1-ee15437a2cf9"
      },
      "source": [
        "base_census.domain"
      ],
      "execution_count": 44,
      "outputs": [
        {
          "output_type": "execute_result",
          "data": {
            "text/plain": [
              "[age, workclass, final-weight, education, education-num, marital-status, occupation, relationship, race, sex, capital-gain, capital-loos, hour-per-week, native-country | income]"
            ]
          },
          "metadata": {
            "tags": []
          },
          "execution_count": 44
        }
      ]
    },
    {
      "cell_type": "code",
      "metadata": {
        "id": "izJTmMdfz32c"
      },
      "source": [
        "previsoes = Orange.evaluation.testing.TestOnTestData(base_census, base_census, [majority])"
      ],
      "execution_count": 45,
      "outputs": []
    },
    {
      "cell_type": "code",
      "metadata": {
        "colab": {
          "base_uri": "https://localhost:8080/"
        },
        "id": "8aBWP0PS0EeE",
        "outputId": "eeb991b6-390b-4c3f-91ea-f427474dee10"
      },
      "source": [
        "Orange.evaluation.CA(previsoes)"
      ],
      "execution_count": 46,
      "outputs": [
        {
          "output_type": "execute_result",
          "data": {
            "text/plain": [
              "array([0.75919044])"
            ]
          },
          "metadata": {
            "tags": []
          },
          "execution_count": 46
        }
      ]
    },
    {
      "cell_type": "code",
      "metadata": {
        "colab": {
          "base_uri": "https://localhost:8080/"
        },
        "id": "L-hSSaLb1BSn",
        "outputId": "dea67756-af1b-4b80-c683-89b933608725"
      },
      "source": [
        "Counter(str(registro.get_class()) for registro in base_census)"
      ],
      "execution_count": 47,
      "outputs": [
        {
          "output_type": "execute_result",
          "data": {
            "text/plain": [
              "Counter({'<=50K': 24720, '>50K': 7841})"
            ]
          },
          "metadata": {
            "tags": []
          },
          "execution_count": 47
        }
      ]
    }
  ]
}