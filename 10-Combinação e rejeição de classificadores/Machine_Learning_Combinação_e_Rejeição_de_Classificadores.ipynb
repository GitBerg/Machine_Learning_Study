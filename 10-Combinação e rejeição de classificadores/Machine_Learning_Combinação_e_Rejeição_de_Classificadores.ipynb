{
  "nbformat": 4,
  "nbformat_minor": 0,
  "metadata": {
    "colab": {
      "name": "Machine_Learning_Combinação_e_Rejeição_de_Classificadores.ipynb",
      "provenance": [],
      "authorship_tag": "ABX9TyNpitWcGKw6flKQIucNi5PY",
      "include_colab_link": true
    },
    "kernelspec": {
      "name": "python3",
      "display_name": "Python 3"
    },
    "language_info": {
      "name": "python"
    }
  },
  "cells": [
    {
      "cell_type": "markdown",
      "metadata": {
        "id": "view-in-github",
        "colab_type": "text"
      },
      "source": [
        "<a href=\"https://colab.research.google.com/github/GitBerg/Machine_Learning_Study/blob/master/10-Combina%C3%A7%C3%A3o%20e%20rejei%C3%A7%C3%A3o%20de%20classificadores/Machine_Learning_Combina%C3%A7%C3%A3o_e_Rejei%C3%A7%C3%A3o_de_Classificadores.ipynb\" target=\"_parent\"><img src=\"https://colab.research.google.com/assets/colab-badge.svg\" alt=\"Open In Colab\"/></a>"
      ]
    },
    {
      "cell_type": "markdown",
      "metadata": {
        "id": "mzAglV3Fgr8z"
      },
      "source": [
        "#Combinação de Classificadores"
      ]
    },
    {
      "cell_type": "code",
      "metadata": {
        "id": "XnwATRbQf4d5"
      },
      "source": [
        "import pickle\n",
        "with open('credit.pkl', 'rb') as f:\n",
        "  X_credit_treinamento, y_credit_treinamento, X_credit_teste, y_credit_teste = pickle.load(f)"
      ],
      "execution_count": 2,
      "outputs": []
    },
    {
      "cell_type": "code",
      "metadata": {
        "colab": {
          "base_uri": "https://localhost:8080/"
        },
        "id": "3OW_YYSKjt8k",
        "outputId": "b325adec-f1f8-42db-ecbc-2039c3b5e5b3"
      },
      "source": [
        "import numpy as np\n",
        "X_credit = np.concatenate((X_credit_treinamento, X_credit_teste), axis = 0)\n",
        "X_credit.shape"
      ],
      "execution_count": 3,
      "outputs": [
        {
          "output_type": "execute_result",
          "data": {
            "text/plain": [
              "(2000, 3)"
            ]
          },
          "metadata": {
            "tags": []
          },
          "execution_count": 3
        }
      ]
    },
    {
      "cell_type": "code",
      "metadata": {
        "colab": {
          "base_uri": "https://localhost:8080/"
        },
        "id": "KXso0DbTjv3v",
        "outputId": "edcb5fbf-094d-4a3e-eca3-fb24ce6eac6e"
      },
      "source": [
        "y_credit = np.concatenate((y_credit_treinamento, y_credit_teste), axis = 0)\n",
        "y_credit.shape"
      ],
      "execution_count": 4,
      "outputs": [
        {
          "output_type": "execute_result",
          "data": {
            "text/plain": [
              "(2000,)"
            ]
          },
          "metadata": {
            "tags": []
          },
          "execution_count": 4
        }
      ]
    },
    {
      "cell_type": "code",
      "metadata": {
        "colab": {
          "base_uri": "https://localhost:8080/"
        },
        "id": "9aJhg5I1kGuf",
        "outputId": "d5101680-40f8-4e8a-8cae-2fc9a650ad61"
      },
      "source": [
        "novo_registro = X_credit[0]\n",
        "novo_registro = novo_registro.reshape(1, -1)\n",
        "novo_registro.shape"
      ],
      "execution_count": 5,
      "outputs": [
        {
          "output_type": "execute_result",
          "data": {
            "text/plain": [
              "(1, 3)"
            ]
          },
          "metadata": {
            "tags": []
          },
          "execution_count": 5
        }
      ]
    },
    {
      "cell_type": "code",
      "metadata": {
        "id": "LUoKw0hFkM9h"
      },
      "source": [
        "rede_neural = pickle.load(open('rede_neural_finalizado.sav' , 'rb'))\n",
        "arvore = pickle.load(open('arvore_finalizado.sav', 'rb'))\n",
        "svm = pickle.load(open('svm_finalizado.sav', 'rb'))"
      ],
      "execution_count": 6,
      "outputs": []
    }
  ]
}