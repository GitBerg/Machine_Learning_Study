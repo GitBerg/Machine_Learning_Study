{
  "nbformat": 4,
  "nbformat_minor": 0,
  "metadata": {
    "colab": {
      "name": "Machine_Learning_Avaliação_De_Algoritmos.ipynb",
      "provenance": [],
      "collapsed_sections": [],
      "authorship_tag": "ABX9TyPfwAsD0foirTHIardE/pho",
      "include_colab_link": true
    },
    "kernelspec": {
      "name": "python3",
      "display_name": "Python 3"
    },
    "language_info": {
      "name": "python"
    }
  },
  "cells": [
    {
      "cell_type": "markdown",
      "metadata": {
        "id": "view-in-github",
        "colab_type": "text"
      },
      "source": [
        "<a href=\"https://colab.research.google.com/github/GitBerg/Machine_Learning_Study/blob/master/09-Avalia%C3%A7%C3%A3o%20de%20algoritmos%20de%20classifica%C3%A7%C3%A3o/Machine_Learning_Avalia%C3%A7%C3%A3o_De_Algoritmos.ipynb\" target=\"_parent\"><img src=\"https://colab.research.google.com/assets/colab-badge.svg\" alt=\"Open In Colab\"/></a>"
      ]
    },
    {
      "cell_type": "markdown",
      "metadata": {
        "id": "P1SjRCB8Bwtm"
      },
      "source": [
        "#Avaliação dos Algoritmos\n",
        "\n",
        "\n",
        "\n",
        "*  Naïve Bayes: 93.80\n",
        "*  Árvore de decisão: 98.20\n",
        "*  Random forest: 98.40\n",
        "*  Regras: 97.40\n",
        "*  Knn: 98.60\n",
        "*  Regressão logística: 94.60\n",
        "*  SVM: 98.80\n",
        "*  Redes neurais: 99.80\n",
        "\n"
      ]
    },
    {
      "cell_type": "markdown",
      "metadata": {
        "id": "_OYuX2EvDVJK"
      },
      "source": [
        "###Tuning dos Parâmetros com GridSearch\n",
        "\n",
        "\n",
        "---\n",
        "\n",
        "\n"
      ]
    },
    {
      "cell_type": "markdown",
      "metadata": {
        "id": "mY2f7fl0Dpun"
      },
      "source": [
        "####Preparação dos dados"
      ]
    },
    {
      "cell_type": "code",
      "metadata": {
        "id": "ccD83VDYBYm7"
      },
      "source": [
        "from sklearn.model_selection import GridSearchCV\n",
        "from sklearn.tree import DecisionTreeClassifier\n",
        "from sklearn.ensemble import RandomForestClassifier\n",
        "from sklearn.neighbors import KNeighborsClassifier\n",
        "from sklearn.linear_model import LogisticRegression\n",
        "from sklearn.svm import SVC\n",
        "from sklearn.neural_network import MLPClassifier"
      ],
      "execution_count": 1,
      "outputs": []
    },
    {
      "cell_type": "code",
      "metadata": {
        "id": "2yf6SMo5EeeZ"
      },
      "source": [
        "import pickle\n",
        "with open('credit.pkl', 'rb') as f:\n",
        "  X_credit_treinamento, y_credit_treinamento, X_credit_teste, y_credit_teste = pickle.load(f)"
      ],
      "execution_count": 2,
      "outputs": []
    },
    {
      "cell_type": "code",
      "metadata": {
        "colab": {
          "base_uri": "https://localhost:8080/"
        },
        "id": "f3CNVMnpE16K",
        "outputId": "6b70a67c-f986-49ce-e731-326207f56aea"
      },
      "source": [
        "X_credit_treinamento.shape, y_credit_treinamento.shape"
      ],
      "execution_count": 3,
      "outputs": [
        {
          "output_type": "execute_result",
          "data": {
            "text/plain": [
              "((1500, 3), (1500,))"
            ]
          },
          "metadata": {
            "tags": []
          },
          "execution_count": 3
        }
      ]
    },
    {
      "cell_type": "code",
      "metadata": {
        "colab": {
          "base_uri": "https://localhost:8080/"
        },
        "id": "qIaccPmoE5vj",
        "outputId": "acc842af-897c-42ac-d381-2370f2f03d18"
      },
      "source": [
        "X_credit_teste.shape, y_credit_teste.shape"
      ],
      "execution_count": 4,
      "outputs": [
        {
          "output_type": "execute_result",
          "data": {
            "text/plain": [
              "((500, 3), (500,))"
            ]
          },
          "metadata": {
            "tags": []
          },
          "execution_count": 4
        }
      ]
    },
    {
      "cell_type": "code",
      "metadata": {
        "colab": {
          "base_uri": "https://localhost:8080/"
        },
        "id": "fO3bHi-qE-fd",
        "outputId": "e97ad1eb-cae8-495c-b45c-eaff0bb42500"
      },
      "source": [
        "import numpy as np\n",
        "X_credit = np.concatenate((X_credit_treinamento, X_credit_teste), axis = 0)\n",
        "X_credit.shape"
      ],
      "execution_count": 5,
      "outputs": [
        {
          "output_type": "execute_result",
          "data": {
            "text/plain": [
              "(2000, 3)"
            ]
          },
          "metadata": {
            "tags": []
          },
          "execution_count": 5
        }
      ]
    },
    {
      "cell_type": "code",
      "metadata": {
        "colab": {
          "base_uri": "https://localhost:8080/"
        },
        "id": "3DTGES3_E-ab",
        "outputId": "a33cf0ff-00d9-4ba8-d6af-6f29846e71c8"
      },
      "source": [
        "X_credit"
      ],
      "execution_count": 6,
      "outputs": [
        {
          "output_type": "execute_result",
          "data": {
            "text/plain": [
              "array([[-1.3754462 ,  0.50631087,  0.10980934],\n",
              "       [ 1.45826409, -1.6489393 , -1.21501497],\n",
              "       [-0.79356829,  0.22531191, -0.43370226],\n",
              "       ...,\n",
              "       [ 1.37445674, -1.05746281, -1.12564819],\n",
              "       [-1.57087737, -0.63488173, -0.36981671],\n",
              "       [-1.03572293, -0.93978122,  0.04244312]])"
            ]
          },
          "metadata": {
            "tags": []
          },
          "execution_count": 6
        }
      ]
    },
    {
      "cell_type": "code",
      "metadata": {
        "colab": {
          "base_uri": "https://localhost:8080/"
        },
        "id": "xmMVyYa-FoeE",
        "outputId": "9682a096-a6bf-47cb-82e1-b93c8a26070d"
      },
      "source": [
        "y_credit = np.concatenate((y_credit_treinamento, y_credit_teste), axis = 0)\n",
        "y_credit.shape"
      ],
      "execution_count": 7,
      "outputs": [
        {
          "output_type": "execute_result",
          "data": {
            "text/plain": [
              "(2000,)"
            ]
          },
          "metadata": {
            "tags": []
          },
          "execution_count": 7
        }
      ]
    },
    {
      "cell_type": "code",
      "metadata": {
        "id": "ECxtAHjcF0ty",
        "colab": {
          "base_uri": "https://localhost:8080/"
        },
        "outputId": "22052243-cb7f-4a22-b66d-69c9e05bb40e"
      },
      "source": [
        "y_credit"
      ],
      "execution_count": 8,
      "outputs": [
        {
          "output_type": "execute_result",
          "data": {
            "text/plain": [
              "array([0, 0, 0, ..., 0, 1, 1])"
            ]
          },
          "metadata": {
            "tags": []
          },
          "execution_count": 8
        }
      ]
    },
    {
      "cell_type": "markdown",
      "metadata": {
        "id": "ZRz73nrKzzTK"
      },
      "source": [
        "###Árvore de decisão"
      ]
    },
    {
      "cell_type": "code",
      "metadata": {
        "id": "KHX5g2DO0Tjl"
      },
      "source": [
        "parametros = {'criterion' : ['gini', 'entropy'],\n",
        "               'splitter' : ['best', 'random'],\n",
        "               'min_samples_split' : [2, 5, 10],\n",
        "               'min_samples_leaf' : [1, 5, 10]}"
      ],
      "execution_count": 9,
      "outputs": []
    },
    {
      "cell_type": "code",
      "metadata": {
        "colab": {
          "base_uri": "https://localhost:8080/"
        },
        "id": "qunj8An5z_v9",
        "outputId": "04d9a8ea-b066-4b51-e50a-e00da5914c87"
      },
      "source": [
        "grid_search = GridSearchCV(estimator=DecisionTreeClassifier(), param_grid=parametros)\n",
        "grid_search.fit(X_credit, y_credit)\n",
        "melhores_parametros = grid_search.best_params_\n",
        "melhor_resultado = grid_search.best_score_\n",
        "print(melhores_parametros)\n",
        "print(melhor_resultado)"
      ],
      "execution_count": 10,
      "outputs": [
        {
          "output_type": "stream",
          "text": [
            "{'criterion': 'entropy', 'min_samples_leaf': 1, 'min_samples_split': 5, 'splitter': 'best'}\n",
            "0.983\n"
          ],
          "name": "stdout"
        }
      ]
    },
    {
      "cell_type": "markdown",
      "metadata": {
        "id": "qbRnueO61v4R"
      },
      "source": [
        "###Random Forest"
      ]
    },
    {
      "cell_type": "code",
      "metadata": {
        "id": "4PY3-CMe2O0O"
      },
      "source": [
        "parametros = {'criterion' : ['gini', 'entropy'],\n",
        "               'n_estimators' : [10, 40, 100, 150],\n",
        "               'min_samples_split' : [2, 5, 10],\n",
        "               'min_samples_leaf' : [1, 5, 10]}"
      ],
      "execution_count": 11,
      "outputs": []
    },
    {
      "cell_type": "code",
      "metadata": {
        "colab": {
          "base_uri": "https://localhost:8080/"
        },
        "id": "D8VJCv8u2FkN",
        "outputId": "d0f0b09b-1669-4a0d-f9e7-2fd202dcd342"
      },
      "source": [
        "grid_search = GridSearchCV(estimator=RandomForestClassifier(), param_grid=parametros)\n",
        "grid_search.fit(X_credit, y_credit)\n",
        "melhores_parametros = grid_search.best_params_\n",
        "melhor_resultado = grid_search.best_score_\n",
        "print(melhores_parametros)\n",
        "print(melhor_resultado)"
      ],
      "execution_count": 12,
      "outputs": [
        {
          "output_type": "stream",
          "text": [
            "{'criterion': 'entropy', 'min_samples_leaf': 1, 'min_samples_split': 2, 'n_estimators': 150}\n",
            "0.986\n"
          ],
          "name": "stdout"
        }
      ]
    },
    {
      "cell_type": "markdown",
      "metadata": {
        "id": "0-LpPABY1xn7"
      },
      "source": [
        "###Knn"
      ]
    },
    {
      "cell_type": "code",
      "metadata": {
        "id": "z0W3iSx62-rr"
      },
      "source": [
        "parametros = {'n_neighbors' : [3, 5, 10, 20],\n",
        "              'p' : [1, 2]}"
      ],
      "execution_count": 13,
      "outputs": []
    },
    {
      "cell_type": "code",
      "metadata": {
        "colab": {
          "base_uri": "https://localhost:8080/"
        },
        "id": "aX0MihTk23bc",
        "outputId": "ff6f483b-b6cb-4a48-9235-686d8a4c8d19"
      },
      "source": [
        "grid_search = GridSearchCV(estimator=KNeighborsClassifier(), param_grid=parametros)\n",
        "grid_search.fit(X_credit, y_credit)\n",
        "melhores_parametros = grid_search.best_params_\n",
        "melhor_resultado = grid_search.best_score_\n",
        "print(melhores_parametros)\n",
        "print(melhor_resultado)"
      ],
      "execution_count": 14,
      "outputs": [
        {
          "output_type": "stream",
          "text": [
            "{'n_neighbors': 20, 'p': 1}\n",
            "0.9800000000000001\n"
          ],
          "name": "stdout"
        }
      ]
    },
    {
      "cell_type": "markdown",
      "metadata": {
        "id": "VlhYaEFU1zHm"
      },
      "source": [
        "###Regressão Logística"
      ]
    },
    {
      "cell_type": "code",
      "metadata": {
        "id": "NMdgJ_mc39jp"
      },
      "source": [
        "parametros = {'tol' : [0.0001, 0.00001, 0.000001],\n",
        "              'C' : [1.0 , 1.5 , 2.0],\n",
        "              'solver' : ['lbfgs' , 'sag', 'saga']}"
      ],
      "execution_count": 15,
      "outputs": []
    },
    {
      "cell_type": "code",
      "metadata": {
        "colab": {
          "base_uri": "https://localhost:8080/"
        },
        "id": "HAw_HOgT3vnk",
        "outputId": "5ed3b765-a430-4453-aa45-cc3e9f66fa76"
      },
      "source": [
        "grid_search = GridSearchCV(estimator=LogisticRegression(), param_grid=parametros)\n",
        "grid_search.fit(X_credit, y_credit)\n",
        "melhores_parametros = grid_search.best_params_\n",
        "melhor_resultado = grid_search.best_score_\n",
        "print(melhores_parametros)\n",
        "print(melhor_resultado)"
      ],
      "execution_count": 16,
      "outputs": [
        {
          "output_type": "stream",
          "text": [
            "{'C': 1.0, 'solver': 'lbfgs', 'tol': 0.0001}\n",
            "0.9484999999999999\n"
          ],
          "name": "stdout"
        }
      ]
    },
    {
      "cell_type": "markdown",
      "metadata": {
        "id": "oTMs1dEw4htb"
      },
      "source": [
        "###SVM"
      ]
    },
    {
      "cell_type": "code",
      "metadata": {
        "id": "ZkjhAybI4ot3"
      },
      "source": [
        "parametros = {'tol' : [0.001, 0.0001, 0.00001],\n",
        "              'C' : [1.0, 1.5, 2.0],\n",
        "              'kernel' : ['rbf', 'linear','poly', 'sigmoid']}"
      ],
      "execution_count": 17,
      "outputs": []
    },
    {
      "cell_type": "code",
      "metadata": {
        "colab": {
          "base_uri": "https://localhost:8080/"
        },
        "id": "Mbca9Yx_4kjK",
        "outputId": "1e7fc093-2dea-48d3-df01-d7f7b9e59b9c"
      },
      "source": [
        "grid_search = GridSearchCV(estimator=SVC(), param_grid=parametros)\n",
        "grid_search.fit(X_credit, y_credit)\n",
        "melhores_parametros = grid_search.best_params_\n",
        "melhor_resultado = grid_search.best_score_\n",
        "print(melhores_parametros)\n",
        "print(melhor_resultado)"
      ],
      "execution_count": 18,
      "outputs": [
        {
          "output_type": "stream",
          "text": [
            "{'C': 1.5, 'kernel': 'rbf', 'tol': 0.001}\n",
            "0.9829999999999999\n"
          ],
          "name": "stdout"
        }
      ]
    },
    {
      "cell_type": "markdown",
      "metadata": {
        "id": "_jk2qHrC11rU"
      },
      "source": [
        "###Redes Neurais"
      ]
    },
    {
      "cell_type": "code",
      "metadata": {
        "id": "crev6GeS4djm"
      },
      "source": [
        "parametros = {'activation' : ['relu', 'logistic', 'tahn'],\n",
        "              'solver' : ['adam', 'sgd'],\n",
        "              'batch_size' : [10, 56]}"
      ],
      "execution_count": 19,
      "outputs": []
    },
    {
      "cell_type": "code",
      "metadata": {
        "id": "tdTjbEw85b3T"
      },
      "source": [
        "grid_search = GridSearchCV(estimator=MLPClassifier(), param_grid=parametros)\n",
        "grid_search.fit(X_credit, y_credit)\n",
        "melhores_parametros = grid_search.best_params_\n",
        "melhor_resultado = grid_search.best_score_"
      ],
      "execution_count": null,
      "outputs": []
    },
    {
      "cell_type": "code",
      "metadata": {
        "colab": {
          "base_uri": "https://localhost:8080/"
        },
        "id": "kIO_Mb7n6f96",
        "outputId": "6d0b4237-070d-4881-b2d6-51be8ed09c6a"
      },
      "source": [
        "print(melhores_parametros)\n",
        "print(melhor_resultado)"
      ],
      "execution_count": 21,
      "outputs": [
        {
          "output_type": "stream",
          "text": [
            "{'activation': 'relu', 'batch_size': 10, 'solver': 'adam'}\n",
            "0.9975000000000002\n"
          ],
          "name": "stdout"
        }
      ]
    },
    {
      "cell_type": "markdown",
      "metadata": {
        "id": "zPfzqg1p6vRi"
      },
      "source": [
        "##Validação Cruzada"
      ]
    },
    {
      "cell_type": "code",
      "metadata": {
        "id": "yym9BNQ46xj8"
      },
      "source": [
        "from sklearn.model_selection import cross_val_score, KFold"
      ],
      "execution_count": 22,
      "outputs": []
    },
    {
      "cell_type": "code",
      "metadata": {
        "id": "x_TDDT2B63D9"
      },
      "source": [
        "resultados_arvore = []\n",
        "resultados_random_forest = []\n",
        "resultados_knn = []\n",
        "resultados_logistica = []\n",
        "resultados_svm = []\n",
        "resultados_rede_neural = []\n",
        "\n",
        "for i in range(30):\n",
        "  kfold = KFold(n_splits=10, shuffle=True, random_state=i)\n",
        "\n",
        "  arvore = DecisionTreeClassifier(criterion='entropy', min_samples_leaf=1, min_samples_split=5, splitter='best')\n",
        "  scores = cross_val_score(arvore, X_credit, y_credit, cv = kfold)\n",
        "  ##print (scores)\n",
        "  ##print(scores.mean())\n",
        "  resultados_arvore.append(scores.mean())\n",
        "\n",
        "  random_forest = RandomForestClassifier(criterion='entropy', min_samples_leaf = 1, min_samples_split= 5, n_estimators= 10 )\n",
        "  scores = cross_val_score(random_forest, X_credit, y_credit,cv = kfold)\n",
        "  resultados_random_forest.append(scores.mean())\n",
        "\n",
        "  knn = KNeighborsClassifier(n_neighbors = 20, p = 1)\n",
        "  scores = cross_val_score(knn, X_credit, y_credit,cv = kfold)\n",
        "  resultados_knn.append(scores.mean())\n",
        "\n",
        "  logistica = LogisticRegression(solver = 'lbfgs', C = 1.0, tol = 0.0001)\n",
        "  scores = cross_val_score(logistica, X_credit, y_credit,cv = kfold)\n",
        "  resultados_logistica.append(scores.mean())\n",
        "\n",
        "  svm = SVC(kernel = 'rbf', C = 1.5, tol = 0.0001)\n",
        "  scores = cross_val_score(svm, X_credit, y_credit,cv = kfold)\n",
        "  resultados_svm.append(scores.mean())\n",
        "\n",
        "  rede_neural = MLPClassifier(activation = 'relu', solver = 'adam', batch_size = 56)\n",
        "  scores = cross_val_score(rede_neural, X_credit, y_credit,cv = kfold)\n",
        "  resultados_rede_neural.append(scores.mean())"
      ],
      "execution_count": null,
      "outputs": []
    },
    {
      "cell_type": "code",
      "metadata": {
        "colab": {
          "base_uri": "https://localhost:8080/",
          "height": 948
        },
        "id": "phNGvPD9FcCi",
        "outputId": "c1df1c0d-08b1-4bdc-fce9-6756edba30b4"
      },
      "source": [
        "import pandas as pd\n",
        "resultados = pd.DataFrame({'Arvore' : resultados_arvore, 'Random_forest' : resultados_random_forest, \n",
        "                           'KNN' : resultados_knn, 'Logistica' : resultados_logistica,\n",
        "                           'SVM' : resultados_svm, 'Rede neural' : resultados_rede_neural})\n",
        "resultados"
      ],
      "execution_count": 24,
      "outputs": [
        {
          "output_type": "execute_result",
          "data": {
            "text/html": [
              "<div>\n",
              "<style scoped>\n",
              "    .dataframe tbody tr th:only-of-type {\n",
              "        vertical-align: middle;\n",
              "    }\n",
              "\n",
              "    .dataframe tbody tr th {\n",
              "        vertical-align: top;\n",
              "    }\n",
              "\n",
              "    .dataframe thead th {\n",
              "        text-align: right;\n",
              "    }\n",
              "</style>\n",
              "<table border=\"1\" class=\"dataframe\">\n",
              "  <thead>\n",
              "    <tr style=\"text-align: right;\">\n",
              "      <th></th>\n",
              "      <th>Arvore</th>\n",
              "      <th>Random_forest</th>\n",
              "      <th>KNN</th>\n",
              "      <th>Logistica</th>\n",
              "      <th>SVM</th>\n",
              "      <th>Rede neural</th>\n",
              "    </tr>\n",
              "  </thead>\n",
              "  <tbody>\n",
              "    <tr>\n",
              "      <th>0</th>\n",
              "      <td>0.9865</td>\n",
              "      <td>0.9845</td>\n",
              "      <td>0.9800</td>\n",
              "      <td>0.9475</td>\n",
              "      <td>0.9835</td>\n",
              "      <td>0.9970</td>\n",
              "    </tr>\n",
              "    <tr>\n",
              "      <th>1</th>\n",
              "      <td>0.9855</td>\n",
              "      <td>0.9825</td>\n",
              "      <td>0.9800</td>\n",
              "      <td>0.9465</td>\n",
              "      <td>0.9835</td>\n",
              "      <td>0.9985</td>\n",
              "    </tr>\n",
              "    <tr>\n",
              "      <th>2</th>\n",
              "      <td>0.9905</td>\n",
              "      <td>0.9865</td>\n",
              "      <td>0.9800</td>\n",
              "      <td>0.9470</td>\n",
              "      <td>0.9835</td>\n",
              "      <td>0.9970</td>\n",
              "    </tr>\n",
              "    <tr>\n",
              "      <th>3</th>\n",
              "      <td>0.9870</td>\n",
              "      <td>0.9810</td>\n",
              "      <td>0.9800</td>\n",
              "      <td>0.9460</td>\n",
              "      <td>0.9845</td>\n",
              "      <td>0.9970</td>\n",
              "    </tr>\n",
              "    <tr>\n",
              "      <th>4</th>\n",
              "      <td>0.9885</td>\n",
              "      <td>0.9850</td>\n",
              "      <td>0.9810</td>\n",
              "      <td>0.9465</td>\n",
              "      <td>0.9855</td>\n",
              "      <td>0.9980</td>\n",
              "    </tr>\n",
              "    <tr>\n",
              "      <th>5</th>\n",
              "      <td>0.9890</td>\n",
              "      <td>0.9840</td>\n",
              "      <td>0.9785</td>\n",
              "      <td>0.9465</td>\n",
              "      <td>0.9830</td>\n",
              "      <td>0.9975</td>\n",
              "    </tr>\n",
              "    <tr>\n",
              "      <th>6</th>\n",
              "      <td>0.9885</td>\n",
              "      <td>0.9825</td>\n",
              "      <td>0.9800</td>\n",
              "      <td>0.9470</td>\n",
              "      <td>0.9840</td>\n",
              "      <td>0.9975</td>\n",
              "    </tr>\n",
              "    <tr>\n",
              "      <th>7</th>\n",
              "      <td>0.9875</td>\n",
              "      <td>0.9855</td>\n",
              "      <td>0.9805</td>\n",
              "      <td>0.9480</td>\n",
              "      <td>0.9845</td>\n",
              "      <td>0.9975</td>\n",
              "    </tr>\n",
              "    <tr>\n",
              "      <th>8</th>\n",
              "      <td>0.9855</td>\n",
              "      <td>0.9835</td>\n",
              "      <td>0.9810</td>\n",
              "      <td>0.9465</td>\n",
              "      <td>0.9820</td>\n",
              "      <td>0.9965</td>\n",
              "    </tr>\n",
              "    <tr>\n",
              "      <th>9</th>\n",
              "      <td>0.9875</td>\n",
              "      <td>0.9835</td>\n",
              "      <td>0.9810</td>\n",
              "      <td>0.9465</td>\n",
              "      <td>0.9830</td>\n",
              "      <td>0.9970</td>\n",
              "    </tr>\n",
              "    <tr>\n",
              "      <th>10</th>\n",
              "      <td>0.9860</td>\n",
              "      <td>0.9800</td>\n",
              "      <td>0.9780</td>\n",
              "      <td>0.9475</td>\n",
              "      <td>0.9825</td>\n",
              "      <td>0.9970</td>\n",
              "    </tr>\n",
              "    <tr>\n",
              "      <th>11</th>\n",
              "      <td>0.9900</td>\n",
              "      <td>0.9850</td>\n",
              "      <td>0.9805</td>\n",
              "      <td>0.9480</td>\n",
              "      <td>0.9825</td>\n",
              "      <td>0.9970</td>\n",
              "    </tr>\n",
              "    <tr>\n",
              "      <th>12</th>\n",
              "      <td>0.9885</td>\n",
              "      <td>0.9805</td>\n",
              "      <td>0.9810</td>\n",
              "      <td>0.9475</td>\n",
              "      <td>0.9845</td>\n",
              "      <td>0.9970</td>\n",
              "    </tr>\n",
              "    <tr>\n",
              "      <th>13</th>\n",
              "      <td>0.9870</td>\n",
              "      <td>0.9870</td>\n",
              "      <td>0.9800</td>\n",
              "      <td>0.9475</td>\n",
              "      <td>0.9840</td>\n",
              "      <td>0.9980</td>\n",
              "    </tr>\n",
              "    <tr>\n",
              "      <th>14</th>\n",
              "      <td>0.9820</td>\n",
              "      <td>0.9855</td>\n",
              "      <td>0.9795</td>\n",
              "      <td>0.9485</td>\n",
              "      <td>0.9835</td>\n",
              "      <td>0.9970</td>\n",
              "    </tr>\n",
              "    <tr>\n",
              "      <th>15</th>\n",
              "      <td>0.9860</td>\n",
              "      <td>0.9815</td>\n",
              "      <td>0.9795</td>\n",
              "      <td>0.9475</td>\n",
              "      <td>0.9845</td>\n",
              "      <td>0.9980</td>\n",
              "    </tr>\n",
              "    <tr>\n",
              "      <th>16</th>\n",
              "      <td>0.9855</td>\n",
              "      <td>0.9815</td>\n",
              "      <td>0.9805</td>\n",
              "      <td>0.9460</td>\n",
              "      <td>0.9840</td>\n",
              "      <td>0.9965</td>\n",
              "    </tr>\n",
              "    <tr>\n",
              "      <th>17</th>\n",
              "      <td>0.9905</td>\n",
              "      <td>0.9845</td>\n",
              "      <td>0.9830</td>\n",
              "      <td>0.9470</td>\n",
              "      <td>0.9845</td>\n",
              "      <td>0.9960</td>\n",
              "    </tr>\n",
              "    <tr>\n",
              "      <th>18</th>\n",
              "      <td>0.9875</td>\n",
              "      <td>0.9865</td>\n",
              "      <td>0.9800</td>\n",
              "      <td>0.9465</td>\n",
              "      <td>0.9850</td>\n",
              "      <td>0.9980</td>\n",
              "    </tr>\n",
              "    <tr>\n",
              "      <th>19</th>\n",
              "      <td>0.9870</td>\n",
              "      <td>0.9825</td>\n",
              "      <td>0.9805</td>\n",
              "      <td>0.9465</td>\n",
              "      <td>0.9840</td>\n",
              "      <td>0.9975</td>\n",
              "    </tr>\n",
              "    <tr>\n",
              "      <th>20</th>\n",
              "      <td>0.9830</td>\n",
              "      <td>0.9820</td>\n",
              "      <td>0.9800</td>\n",
              "      <td>0.9465</td>\n",
              "      <td>0.9835</td>\n",
              "      <td>0.9970</td>\n",
              "    </tr>\n",
              "    <tr>\n",
              "      <th>21</th>\n",
              "      <td>0.9870</td>\n",
              "      <td>0.9865</td>\n",
              "      <td>0.9810</td>\n",
              "      <td>0.9470</td>\n",
              "      <td>0.9850</td>\n",
              "      <td>0.9970</td>\n",
              "    </tr>\n",
              "    <tr>\n",
              "      <th>22</th>\n",
              "      <td>0.9890</td>\n",
              "      <td>0.9845</td>\n",
              "      <td>0.9810</td>\n",
              "      <td>0.9455</td>\n",
              "      <td>0.9845</td>\n",
              "      <td>0.9965</td>\n",
              "    </tr>\n",
              "    <tr>\n",
              "      <th>23</th>\n",
              "      <td>0.9870</td>\n",
              "      <td>0.9855</td>\n",
              "      <td>0.9800</td>\n",
              "      <td>0.9465</td>\n",
              "      <td>0.9870</td>\n",
              "      <td>0.9970</td>\n",
              "    </tr>\n",
              "    <tr>\n",
              "      <th>24</th>\n",
              "      <td>0.9880</td>\n",
              "      <td>0.9805</td>\n",
              "      <td>0.9835</td>\n",
              "      <td>0.9470</td>\n",
              "      <td>0.9840</td>\n",
              "      <td>0.9970</td>\n",
              "    </tr>\n",
              "    <tr>\n",
              "      <th>25</th>\n",
              "      <td>0.9880</td>\n",
              "      <td>0.9860</td>\n",
              "      <td>0.9815</td>\n",
              "      <td>0.9470</td>\n",
              "      <td>0.9820</td>\n",
              "      <td>0.9975</td>\n",
              "    </tr>\n",
              "    <tr>\n",
              "      <th>26</th>\n",
              "      <td>0.9880</td>\n",
              "      <td>0.9835</td>\n",
              "      <td>0.9795</td>\n",
              "      <td>0.9475</td>\n",
              "      <td>0.9825</td>\n",
              "      <td>0.9970</td>\n",
              "    </tr>\n",
              "    <tr>\n",
              "      <th>27</th>\n",
              "      <td>0.9855</td>\n",
              "      <td>0.9820</td>\n",
              "      <td>0.9795</td>\n",
              "      <td>0.9465</td>\n",
              "      <td>0.9850</td>\n",
              "      <td>0.9970</td>\n",
              "    </tr>\n",
              "    <tr>\n",
              "      <th>28</th>\n",
              "      <td>0.9865</td>\n",
              "      <td>0.9810</td>\n",
              "      <td>0.9775</td>\n",
              "      <td>0.9480</td>\n",
              "      <td>0.9830</td>\n",
              "      <td>0.9965</td>\n",
              "    </tr>\n",
              "    <tr>\n",
              "      <th>29</th>\n",
              "      <td>0.9880</td>\n",
              "      <td>0.9850</td>\n",
              "      <td>0.9780</td>\n",
              "      <td>0.9465</td>\n",
              "      <td>0.9860</td>\n",
              "      <td>0.9970</td>\n",
              "    </tr>\n",
              "  </tbody>\n",
              "</table>\n",
              "</div>"
            ],
            "text/plain": [
              "    Arvore  Random_forest     KNN  Logistica     SVM  Rede neural\n",
              "0   0.9865         0.9845  0.9800     0.9475  0.9835       0.9970\n",
              "1   0.9855         0.9825  0.9800     0.9465  0.9835       0.9985\n",
              "2   0.9905         0.9865  0.9800     0.9470  0.9835       0.9970\n",
              "3   0.9870         0.9810  0.9800     0.9460  0.9845       0.9970\n",
              "4   0.9885         0.9850  0.9810     0.9465  0.9855       0.9980\n",
              "5   0.9890         0.9840  0.9785     0.9465  0.9830       0.9975\n",
              "6   0.9885         0.9825  0.9800     0.9470  0.9840       0.9975\n",
              "7   0.9875         0.9855  0.9805     0.9480  0.9845       0.9975\n",
              "8   0.9855         0.9835  0.9810     0.9465  0.9820       0.9965\n",
              "9   0.9875         0.9835  0.9810     0.9465  0.9830       0.9970\n",
              "10  0.9860         0.9800  0.9780     0.9475  0.9825       0.9970\n",
              "11  0.9900         0.9850  0.9805     0.9480  0.9825       0.9970\n",
              "12  0.9885         0.9805  0.9810     0.9475  0.9845       0.9970\n",
              "13  0.9870         0.9870  0.9800     0.9475  0.9840       0.9980\n",
              "14  0.9820         0.9855  0.9795     0.9485  0.9835       0.9970\n",
              "15  0.9860         0.9815  0.9795     0.9475  0.9845       0.9980\n",
              "16  0.9855         0.9815  0.9805     0.9460  0.9840       0.9965\n",
              "17  0.9905         0.9845  0.9830     0.9470  0.9845       0.9960\n",
              "18  0.9875         0.9865  0.9800     0.9465  0.9850       0.9980\n",
              "19  0.9870         0.9825  0.9805     0.9465  0.9840       0.9975\n",
              "20  0.9830         0.9820  0.9800     0.9465  0.9835       0.9970\n",
              "21  0.9870         0.9865  0.9810     0.9470  0.9850       0.9970\n",
              "22  0.9890         0.9845  0.9810     0.9455  0.9845       0.9965\n",
              "23  0.9870         0.9855  0.9800     0.9465  0.9870       0.9970\n",
              "24  0.9880         0.9805  0.9835     0.9470  0.9840       0.9970\n",
              "25  0.9880         0.9860  0.9815     0.9470  0.9820       0.9975\n",
              "26  0.9880         0.9835  0.9795     0.9475  0.9825       0.9970\n",
              "27  0.9855         0.9820  0.9795     0.9465  0.9850       0.9970\n",
              "28  0.9865         0.9810  0.9775     0.9480  0.9830       0.9965\n",
              "29  0.9880         0.9850  0.9780     0.9465  0.9860       0.9970"
            ]
          },
          "metadata": {
            "tags": []
          },
          "execution_count": 24
        }
      ]
    },
    {
      "cell_type": "code",
      "metadata": {
        "colab": {
          "base_uri": "https://localhost:8080/",
          "height": 288
        },
        "id": "_aqhrQwOGi0d",
        "outputId": "313fb9db-8fe7-4ed3-c562-c51165da3c19"
      },
      "source": [
        "resultados.describe()"
      ],
      "execution_count": 25,
      "outputs": [
        {
          "output_type": "execute_result",
          "data": {
            "text/html": [
              "<div>\n",
              "<style scoped>\n",
              "    .dataframe tbody tr th:only-of-type {\n",
              "        vertical-align: middle;\n",
              "    }\n",
              "\n",
              "    .dataframe tbody tr th {\n",
              "        vertical-align: top;\n",
              "    }\n",
              "\n",
              "    .dataframe thead th {\n",
              "        text-align: right;\n",
              "    }\n",
              "</style>\n",
              "<table border=\"1\" class=\"dataframe\">\n",
              "  <thead>\n",
              "    <tr style=\"text-align: right;\">\n",
              "      <th></th>\n",
              "      <th>Arvore</th>\n",
              "      <th>Random_forest</th>\n",
              "      <th>KNN</th>\n",
              "      <th>Logistica</th>\n",
              "      <th>SVM</th>\n",
              "      <th>Rede neural</th>\n",
              "    </tr>\n",
              "  </thead>\n",
              "  <tbody>\n",
              "    <tr>\n",
              "      <th>count</th>\n",
              "      <td>30.000000</td>\n",
              "      <td>30.000000</td>\n",
              "      <td>30.000000</td>\n",
              "      <td>30.000000</td>\n",
              "      <td>30.000000</td>\n",
              "      <td>30.000000</td>\n",
              "    </tr>\n",
              "    <tr>\n",
              "      <th>mean</th>\n",
              "      <td>0.987200</td>\n",
              "      <td>0.983650</td>\n",
              "      <td>0.980200</td>\n",
              "      <td>0.946950</td>\n",
              "      <td>0.983950</td>\n",
              "      <td>0.997167</td>\n",
              "    </tr>\n",
              "    <tr>\n",
              "      <th>std</th>\n",
              "      <td>0.001896</td>\n",
              "      <td>0.002077</td>\n",
              "      <td>0.001270</td>\n",
              "      <td>0.000687</td>\n",
              "      <td>0.001155</td>\n",
              "      <td>0.000547</td>\n",
              "    </tr>\n",
              "    <tr>\n",
              "      <th>min</th>\n",
              "      <td>0.982000</td>\n",
              "      <td>0.980000</td>\n",
              "      <td>0.977500</td>\n",
              "      <td>0.945500</td>\n",
              "      <td>0.982000</td>\n",
              "      <td>0.996000</td>\n",
              "    </tr>\n",
              "    <tr>\n",
              "      <th>25%</th>\n",
              "      <td>0.986125</td>\n",
              "      <td>0.982000</td>\n",
              "      <td>0.979625</td>\n",
              "      <td>0.946500</td>\n",
              "      <td>0.983125</td>\n",
              "      <td>0.997000</td>\n",
              "    </tr>\n",
              "    <tr>\n",
              "      <th>50%</th>\n",
              "      <td>0.987250</td>\n",
              "      <td>0.983750</td>\n",
              "      <td>0.980000</td>\n",
              "      <td>0.947000</td>\n",
              "      <td>0.984000</td>\n",
              "      <td>0.997000</td>\n",
              "    </tr>\n",
              "    <tr>\n",
              "      <th>75%</th>\n",
              "      <td>0.988375</td>\n",
              "      <td>0.985375</td>\n",
              "      <td>0.981000</td>\n",
              "      <td>0.947500</td>\n",
              "      <td>0.984500</td>\n",
              "      <td>0.997500</td>\n",
              "    </tr>\n",
              "    <tr>\n",
              "      <th>max</th>\n",
              "      <td>0.990500</td>\n",
              "      <td>0.987000</td>\n",
              "      <td>0.983500</td>\n",
              "      <td>0.948500</td>\n",
              "      <td>0.987000</td>\n",
              "      <td>0.998500</td>\n",
              "    </tr>\n",
              "  </tbody>\n",
              "</table>\n",
              "</div>"
            ],
            "text/plain": [
              "          Arvore  Random_forest        KNN  Logistica        SVM  Rede neural\n",
              "count  30.000000      30.000000  30.000000  30.000000  30.000000    30.000000\n",
              "mean    0.987200       0.983650   0.980200   0.946950   0.983950     0.997167\n",
              "std     0.001896       0.002077   0.001270   0.000687   0.001155     0.000547\n",
              "min     0.982000       0.980000   0.977500   0.945500   0.982000     0.996000\n",
              "25%     0.986125       0.982000   0.979625   0.946500   0.983125     0.997000\n",
              "50%     0.987250       0.983750   0.980000   0.947000   0.984000     0.997000\n",
              "75%     0.988375       0.985375   0.981000   0.947500   0.984500     0.997500\n",
              "max     0.990500       0.987000   0.983500   0.948500   0.987000     0.998500"
            ]
          },
          "metadata": {
            "tags": []
          },
          "execution_count": 25
        }
      ]
    },
    {
      "cell_type": "code",
      "metadata": {
        "colab": {
          "base_uri": "https://localhost:8080/"
        },
        "id": "pLgfFTtGH-0g",
        "outputId": "82343819-08a8-49c3-e7be-774c57c0e1a2"
      },
      "source": [
        "resultados.var()"
      ],
      "execution_count": 26,
      "outputs": [
        {
          "output_type": "execute_result",
          "data": {
            "text/plain": [
              "Arvore           3.596552e-06\n",
              "Random_forest    4.312931e-06\n",
              "KNN              1.613793e-06\n",
              "Logistica        4.715517e-07\n",
              "SVM              1.333621e-06\n",
              "Rede neural      2.988506e-07\n",
              "dtype: float64"
            ]
          },
          "metadata": {
            "tags": []
          },
          "execution_count": 26
        }
      ]
    },
    {
      "cell_type": "code",
      "metadata": {
        "colab": {
          "base_uri": "https://localhost:8080/"
        },
        "id": "vnTudjWjIDu6",
        "outputId": "aa88dffb-fa85-4ed8-cbd9-17e0daca1de8"
      },
      "source": [
        "(resultados.std()/resultados.mean()) * 100"
      ],
      "execution_count": 27,
      "outputs": [
        {
          "output_type": "execute_result",
          "data": {
            "text/plain": [
              "Arvore           0.192105\n",
              "Random_forest    0.211128\n",
              "KNN              0.129601\n",
              "Logistica        0.072517\n",
              "SVM              0.117366\n",
              "Rede neural      0.054823\n",
              "dtype: float64"
            ]
          },
          "metadata": {
            "tags": []
          },
          "execution_count": 27
        }
      ]
    },
    {
      "cell_type": "markdown",
      "metadata": {
        "id": "KU0QCpmZNe1h"
      },
      "source": [
        "##Teste de Normalidade nos Resultados"
      ]
    },
    {
      "cell_type": "code",
      "metadata": {
        "id": "ZGSgT_sYNiy3"
      },
      "source": [
        "alpha = 0.05"
      ],
      "execution_count": 28,
      "outputs": []
    },
    {
      "cell_type": "code",
      "metadata": {
        "id": "QluQGdguNrqL"
      },
      "source": [
        "from scipy.stats import shapiro"
      ],
      "execution_count": 29,
      "outputs": []
    },
    {
      "cell_type": "code",
      "metadata": {
        "colab": {
          "base_uri": "https://localhost:8080/"
        },
        "id": "UElgDvhfNwxv",
        "outputId": "3a081075-bacd-42df-9b5f-39c72c22460a"
      },
      "source": [
        "shapiro(resultados_arvore), shapiro(resultados_random_forest), shapiro(resultados_knn), shapiro(resultados_logistica),shapiro(resultados_svm), shapiro(resultados_rede_neural)"
      ],
      "execution_count": 30,
      "outputs": [
        {
          "output_type": "execute_result",
          "data": {
            "text/plain": [
              "((0.9479231834411621, 0.14869770407676697),\n",
              " (0.9490901827812195, 0.15982601046562195),\n",
              " (0.9244088530540466, 0.03495403751730919),\n",
              " (0.9370993375778198, 0.07600117474794388),\n",
              " (0.9658124446868896, 0.4317886233329773),\n",
              " (0.8958943486213684, 0.006674647331237793))"
            ]
          },
          "metadata": {
            "tags": []
          },
          "execution_count": 30
        }
      ]
    },
    {
      "cell_type": "code",
      "metadata": {
        "colab": {
          "base_uri": "https://localhost:8080/",
          "height": 369
        },
        "id": "QC5pMaLFOamU",
        "outputId": "a3d742ec-2cb6-4d86-f8b0-9e39d7984a86"
      },
      "source": [
        "import seaborn as sns\n",
        "sns.displot(resultados_arvore, kind = 'kde');"
      ],
      "execution_count": 31,
      "outputs": [
        {
          "output_type": "display_data",
          "data": {
            "image/png": "[encoded data removed]",
            "text/plain": [
              "<Figure size 360x360 with 1 Axes>"
            ]
          },
          "metadata": {
            "tags": [],
            "needs_background": "light"
          }
        }
      ]
    },
    {
      "cell_type": "code",
      "metadata": {
        "colab": {
          "base_uri": "https://localhost:8080/",
          "height": 369
        },
        "id": "n_HoDflhOxVe",
        "outputId": "4b22a333-ffbf-4ba8-f851-78b740ccaf45"
      },
      "source": [
        "sns.displot(resultados_random_forest, kind = 'kde');"
      ],
      "execution_count": 32,
      "outputs": [
        {
          "output_type": "display_data",
          "data": {
            "image/png": "[encoded data removed]",
            "text/plain": [
              "<Figure size 360x360 with 1 Axes>"
            ]
          },
          "metadata": {
            "tags": [],
            "needs_background": "light"
          }
        }
      ]
    },
    {
      "cell_type": "code",
      "metadata": {
        "colab": {
          "base_uri": "https://localhost:8080/",
          "height": 369
        },
        "id": "YVDCXRjqOzDS",
        "outputId": "60518df0-8a6a-4c67-a3e0-4a14f9cdfcda"
      },
      "source": [
        "sns.displot(resultados_knn, kind = 'kde');"
      ],
      "execution_count": 33,
      "outputs": [
        {
          "output_type": "display_data",
          "data": {
            "image/png": "[encoded data removed]",
            "text/plain": [
              "<Figure size 360x360 with 1 Axes>"
            ]
          },
          "metadata": {
            "tags": [],
            "needs_background": "light"
          }
        }
      ]
    },
    {
      "cell_type": "code",
      "metadata": {
        "colab": {
          "base_uri": "https://localhost:8080/",
          "height": 369
        },
        "id": "w72dmPKuO0um",
        "outputId": "94c1b491-7af8-486a-a3ed-34c911c3477e"
      },
      "source": [
        "sns.displot(resultados_logistica, kind = 'kde');"
      ],
      "execution_count": 34,
      "outputs": [
        {
          "output_type": "display_data",
          "data": {
            "image/png": "[encoded data removed]",
            "text/plain": [
              "<Figure size 360x360 with 1 Axes>"
            ]
          },
          "metadata": {
            "tags": [],
            "needs_background": "light"
          }
        }
      ]
    },
    {
      "cell_type": "code",
      "metadata": {
        "colab": {
          "base_uri": "https://localhost:8080/",
          "height": 369
        },
        "id": "MHNrTTYWO2cN",
        "outputId": "de2abb37-a6ee-441a-ad98-b1a7460cbcdf"
      },
      "source": [
        "sns.displot(resultados_svm, kind = 'kde');"
      ],
      "execution_count": 35,
      "outputs": [
        {
          "output_type": "display_data",
          "data": {
            "image/png": "[encoded data removed]",
            "text/plain": [
              "<Figure size 360x360 with 1 Axes>"
            ]
          },
          "metadata": {
            "tags": [],
            "needs_background": "light"
          }
        }
      ]
    },
    {
      "cell_type": "code",
      "metadata": {
        "colab": {
          "base_uri": "https://localhost:8080/",
          "height": 369
        },
        "id": "8Y71COqfO4Sf",
        "outputId": "7a7b932d-0af5-4925-edb7-1e9c409f6815"
      },
      "source": [
        "sns.displot(resultados_rede_neural, kind = 'kde');"
      ],
      "execution_count": 36,
      "outputs": [
        {
          "output_type": "display_data",
          "data": {
            "image/png": "[encoded data removed]",
            "text/plain": [
              "<Figure size 360x360 with 1 Axes>"
            ]
          },
          "metadata": {
            "tags": [],
            "needs_background": "light"
          }
        }
      ]
    },
    {
      "cell_type": "markdown",
      "metadata": {
        "id": "g3_8zfw7OJDB"
      },
      "source": [
        "##Teste de Hipótese com ANOVA e Tukey"
      ]
    },
    {
      "cell_type": "code",
      "metadata": {
        "id": "-rNkO5BFONJg"
      },
      "source": [
        "from scipy.stats import f_oneway"
      ],
      "execution_count": 37,
      "outputs": []
    },
    {
      "cell_type": "code",
      "metadata": {
        "colab": {
          "base_uri": "https://localhost:8080/"
        },
        "id": "ZWnq0Tu6OVWD",
        "outputId": "171f085e-c436-4f76-812a-6615bc4218ce"
      },
      "source": [
        "_, p = f_oneway(resultados_arvore, resultados_random_forest, resultados_knn, resultados_logistica, resultados_svm, resultados_rede_neural)\n",
        "p"
      ],
      "execution_count": 38,
      "outputs": [
        {
          "output_type": "execute_result",
          "data": {
            "text/plain": [
              "2.634998600048717e-182"
            ]
          },
          "metadata": {
            "tags": []
          },
          "execution_count": 38
        }
      ]
    },
    {
      "cell_type": "code",
      "metadata": {
        "colab": {
          "base_uri": "https://localhost:8080/"
        },
        "id": "7gM7VkbQOt7a",
        "outputId": "ebdf6f4b-8c17-45b6-abc1-1eee76a6b909"
      },
      "source": [
        "alpha = 0.05\n",
        "if p <= alpha:\n",
        "  print('Hipótese nula rejeitada. Dados são diferentes')\n",
        "else:\n",
        "  print('Hipótese alternativa rejeitada. Resultados são iguais')\n"
      ],
      "execution_count": 39,
      "outputs": [
        {
          "output_type": "stream",
          "text": [
            "Hipótese nula rejeitada. Dados são diferentes\n"
          ],
          "name": "stdout"
        }
      ]
    },
    {
      "cell_type": "code",
      "metadata": {
        "id": "H8VUJ5OeO_Jb"
      },
      "source": [
        "resultados_algoritmos = {'accuracy' : np.concatenate([resultados_arvore, resultados_random_forest, resultados_knn, resultados_logistica, resultados_svm, resultados_rede_neural]),\n",
        "                                      'algoritmo' :  ['arvore','arvore','arvore','arvore','arvore','arvore','arvore','arvore','arvore','arvore','arvore','arvore','arvore','arvore','arvore','arvore','arvore','arvore','arvore','arvore','arvore','arvore','arvore','arvore','arvore','arvore','arvore','arvore','arvore','arvore',\n",
        "                                                      'random_forest','random_forest','random_forest','random_forest','random_forest','random_forest','random_forest','random_forest','random_forest','random_forest','random_forest','random_forest','random_forest','random_forest','random_forest','random_forest','random_forest','random_forest','random_forest','random_forest','random_forest','random_forest','random_forest','random_forest','random_forest','random_forest','random_forest','random_forest','random_forest','random_forest',\n",
        "                                                      'knn','knn','knn','knn','knn','knn','knn','knn','knn','knn','knn','knn','knn','knn','knn','knn','knn','knn','knn','knn','knn','knn','knn','knn','knn','knn','knn','knn','knn','knn',\n",
        "                                                      'logistica','logistica','logistica','logistica','logistica','logistica','logistica','logistica','logistica','logistica','logistica','logistica','logistica','logistica','logistica','logistica','logistica','logistica','logistica','logistica','logistica','logistica','logistica','logistica','logistica','logistica','logistica','logistica','logistica','logistica',\n",
        "                                                      'svm','svm','svm','svm','svm','svm','svm','svm','svm','svm','svm','svm','svm','svm','svm','svm','svm','svm','svm','svm','svm','svm','svm','svm','svm','svm','svm','svm','svm','svm',\n",
        "                                                      'rede_neural','rede_neural','rede_neural','rede_neural','rede_neural','rede_neural','rede_neural','rede_neural','rede_neural','rede_neural','rede_neural','rede_neural','rede_neural','rede_neural','rede_neural','rede_neural','rede_neural','rede_neural','rede_neural','rede_neural','rede_neural','rede_neural','rede_neural','rede_neural','rede_neural','rede_neural','rede_neural','rede_neural','rede_neural','rede_neural']}"
      ],
      "execution_count": 40,
      "outputs": []
    },
    {
      "cell_type": "code",
      "metadata": {
        "colab": {
          "base_uri": "https://localhost:8080/",
          "height": 407
        },
        "id": "AH388nVNQHcY",
        "outputId": "da3de5dd-69dd-4303-ec9e-487de62d7d10"
      },
      "source": [
        "resultados_df = pd.DataFrame(resultados_algoritmos)\n",
        "resultados_df"
      ],
      "execution_count": 41,
      "outputs": [
        {
          "output_type": "execute_result",
          "data": {
            "text/html": [
              "<div>\n",
              "<style scoped>\n",
              "    .dataframe tbody tr th:only-of-type {\n",
              "        vertical-align: middle;\n",
              "    }\n",
              "\n",
              "    .dataframe tbody tr th {\n",
              "        vertical-align: top;\n",
              "    }\n",
              "\n",
              "    .dataframe thead th {\n",
              "        text-align: right;\n",
              "    }\n",
              "</style>\n",
              "<table border=\"1\" class=\"dataframe\">\n",
              "  <thead>\n",
              "    <tr style=\"text-align: right;\">\n",
              "      <th></th>\n",
              "      <th>accuracy</th>\n",
              "      <th>algoritmo</th>\n",
              "    </tr>\n",
              "  </thead>\n",
              "  <tbody>\n",
              "    <tr>\n",
              "      <th>0</th>\n",
              "      <td>0.9865</td>\n",
              "      <td>arvore</td>\n",
              "    </tr>\n",
              "    <tr>\n",
              "      <th>1</th>\n",
              "      <td>0.9855</td>\n",
              "      <td>arvore</td>\n",
              "    </tr>\n",
              "    <tr>\n",
              "      <th>2</th>\n",
              "      <td>0.9905</td>\n",
              "      <td>arvore</td>\n",
              "    </tr>\n",
              "    <tr>\n",
              "      <th>3</th>\n",
              "      <td>0.9870</td>\n",
              "      <td>arvore</td>\n",
              "    </tr>\n",
              "    <tr>\n",
              "      <th>4</th>\n",
              "      <td>0.9885</td>\n",
              "      <td>arvore</td>\n",
              "    </tr>\n",
              "    <tr>\n",
              "      <th>...</th>\n",
              "      <td>...</td>\n",
              "      <td>...</td>\n",
              "    </tr>\n",
              "    <tr>\n",
              "      <th>175</th>\n",
              "      <td>0.9975</td>\n",
              "      <td>rede_neural</td>\n",
              "    </tr>\n",
              "    <tr>\n",
              "      <th>176</th>\n",
              "      <td>0.9970</td>\n",
              "      <td>rede_neural</td>\n",
              "    </tr>\n",
              "    <tr>\n",
              "      <th>177</th>\n",
              "      <td>0.9970</td>\n",
              "      <td>rede_neural</td>\n",
              "    </tr>\n",
              "    <tr>\n",
              "      <th>178</th>\n",
              "      <td>0.9965</td>\n",
              "      <td>rede_neural</td>\n",
              "    </tr>\n",
              "    <tr>\n",
              "      <th>179</th>\n",
              "      <td>0.9970</td>\n",
              "      <td>rede_neural</td>\n",
              "    </tr>\n",
              "  </tbody>\n",
              "</table>\n",
              "<p>180 rows × 2 columns</p>\n",
              "</div>"
            ],
            "text/plain": [
              "     accuracy    algoritmo\n",
              "0      0.9865       arvore\n",
              "1      0.9855       arvore\n",
              "2      0.9905       arvore\n",
              "3      0.9870       arvore\n",
              "4      0.9885       arvore\n",
              "..        ...          ...\n",
              "175    0.9975  rede_neural\n",
              "176    0.9970  rede_neural\n",
              "177    0.9970  rede_neural\n",
              "178    0.9965  rede_neural\n",
              "179    0.9970  rede_neural\n",
              "\n",
              "[180 rows x 2 columns]"
            ]
          },
          "metadata": {
            "tags": []
          },
          "execution_count": 41
        }
      ]
    },
    {
      "cell_type": "code",
      "metadata": {
        "colab": {
          "base_uri": "https://localhost:8080/"
        },
        "id": "0-FP5YyLQ5yh",
        "outputId": "dc768d44-8aaf-496e-e882-97e735ff8068"
      },
      "source": [
        "from statsmodels.stats.multicomp import MultiComparison"
      ],
      "execution_count": 42,
      "outputs": [
        {
          "output_type": "stream",
          "text": [
            "/usr/local/lib/python3.7/dist-packages/statsmodels/tools/_testing.py:19: FutureWarning: pandas.util.testing is deprecated. Use the functions in the public API at pandas.testing instead.\n",
            "  import pandas.util.testing as tm\n"
          ],
          "name": "stderr"
        }
      ]
    },
    {
      "cell_type": "code",
      "metadata": {
        "id": "5SFKNajWQ-RC"
      },
      "source": [
        "compara_algoritmos = MultiComparison(resultados_df['accuracy'], resultados_df['algoritmo'])"
      ],
      "execution_count": 43,
      "outputs": []
    },
    {
      "cell_type": "code",
      "metadata": {
        "colab": {
          "base_uri": "https://localhost:8080/"
        },
        "id": "rYIx2Hg8RH3M",
        "outputId": "383f59ab-1718-4850-a784-cddcc5219fe9"
      },
      "source": [
        "teste_estatistico = compara_algoritmos.tukeyhsd()\n",
        "print(teste_estatistico)"
      ],
      "execution_count": 44,
      "outputs": [
        {
          "output_type": "stream",
          "text": [
            "       Multiple Comparison of Means - Tukey HSD, FWER=0.05       \n",
            "=================================================================\n",
            "    group1        group2    meandiff p-adj  lower   upper  reject\n",
            "-----------------------------------------------------------------\n",
            "       arvore           knn   -0.007 0.001  -0.008  -0.006   True\n",
            "       arvore     logistica  -0.0403 0.001 -0.0413 -0.0392   True\n",
            "       arvore random_forest  -0.0035 0.001 -0.0046 -0.0025   True\n",
            "       arvore   rede_neural     0.01 0.001  0.0089   0.011   True\n",
            "       arvore           svm  -0.0032 0.001 -0.0043 -0.0022   True\n",
            "          knn     logistica  -0.0333 0.001 -0.0343 -0.0322   True\n",
            "          knn random_forest   0.0034 0.001  0.0024  0.0045   True\n",
            "          knn   rede_neural    0.017 0.001  0.0159   0.018   True\n",
            "          knn           svm   0.0037 0.001  0.0027  0.0048   True\n",
            "    logistica random_forest   0.0367 0.001  0.0357  0.0377   True\n",
            "    logistica   rede_neural   0.0502 0.001  0.0492  0.0513   True\n",
            "    logistica           svm    0.037 0.001   0.036   0.038   True\n",
            "random_forest   rede_neural   0.0135 0.001  0.0125  0.0146   True\n",
            "random_forest           svm   0.0003   0.9 -0.0007  0.0013  False\n",
            "  rede_neural           svm  -0.0132 0.001 -0.0143 -0.0122   True\n",
            "-----------------------------------------------------------------\n"
          ],
          "name": "stdout"
        }
      ]
    },
    {
      "cell_type": "code",
      "metadata": {
        "colab": {
          "base_uri": "https://localhost:8080/"
        },
        "id": "OoEZqsZcTTTP",
        "outputId": "9cfd22a8-86e6-4fd1-fdf6-567ad8693659"
      },
      "source": [
        "resultados.mean()"
      ],
      "execution_count": 45,
      "outputs": [
        {
          "output_type": "execute_result",
          "data": {
            "text/plain": [
              "Arvore           0.987200\n",
              "Random_forest    0.983650\n",
              "KNN              0.980200\n",
              "Logistica        0.946950\n",
              "SVM              0.983950\n",
              "Rede neural      0.997167\n",
              "dtype: float64"
            ]
          },
          "metadata": {
            "tags": []
          },
          "execution_count": 45
        }
      ]
    },
    {
      "cell_type": "code",
      "metadata": {
        "colab": {
          "base_uri": "https://localhost:8080/",
          "height": 390
        },
        "id": "gmGjcJukTXVY",
        "outputId": "bb5b5289-0787-4398-cb49-2eabb3409bda"
      },
      "source": [
        "teste_estatistico.plot_simultaneous();"
      ],
      "execution_count": 46,
      "outputs": [
        {
          "output_type": "display_data",
          "data": {
            "image/png": "[encoded data removed]",
            "text/plain": [
              "<Figure size 720x432 with 1 Axes>"
            ]
          },
          "metadata": {
            "tags": [],
            "needs_background": "light"
          }
        }
      ]
    },
    {
      "cell_type": "markdown",
      "metadata": {
        "id": "1T0KStnsUHuS"
      },
      "source": [
        "##Salvar um Classificador já Treinado"
      ]
    },
    {
      "cell_type": "code",
      "metadata": {
        "colab": {
          "base_uri": "https://localhost:8080/"
        },
        "id": "UL2UtG86UK9b",
        "outputId": "65aec3fc-9a37-4f90-f748-9471c2b31553"
      },
      "source": [
        "classificador_rede_neural = MLPClassifier(activation='relu', batch_size = 56, solver = 'adam')\n",
        "classificador_rede_neural.fit(X_credit, y_credit)"
      ],
      "execution_count": 57,
      "outputs": [
        {
          "output_type": "stream",
          "text": [
            "/usr/local/lib/python3.7/dist-packages/sklearn/neural_network/_multilayer_perceptron.py:571: ConvergenceWarning: Stochastic Optimizer: Maximum iterations (200) reached and the optimization hasn't converged yet.\n",
            "  % self.max_iter, ConvergenceWarning)\n"
          ],
          "name": "stderr"
        },
        {
          "output_type": "execute_result",
          "data": {
            "text/plain": [
              "MLPClassifier(activation='relu', alpha=0.0001, batch_size=56, beta_1=0.9,\n",
              "              beta_2=0.999, early_stopping=False, epsilon=1e-08,\n",
              "              hidden_layer_sizes=(100,), learning_rate='constant',\n",
              "              learning_rate_init=0.001, max_fun=15000, max_iter=200,\n",
              "              momentum=0.9, n_iter_no_change=10, nesterovs_momentum=True,\n",
              "              power_t=0.5, random_state=None, shuffle=True, solver='adam',\n",
              "              tol=0.0001, validation_fraction=0.1, verbose=False,\n",
              "              warm_start=False)"
            ]
          },
          "metadata": {
            "tags": []
          },
          "execution_count": 57
        }
      ]
    },
    {
      "cell_type": "code",
      "metadata": {
        "colab": {
          "base_uri": "https://localhost:8080/"
        },
        "id": "gORbOmbYU2UX",
        "outputId": "ee0d8d13-d607-4928-bc64-640b51e694a3"
      },
      "source": [
        "classificador_arvore = DecisionTreeClassifier(criterion='entropy', min_samples_leaf = 1, min_samples_split = 5, splitter = 'best')\n",
        "classificador_arvore.fit(X_credit, y_credit)"
      ],
      "execution_count": 58,
      "outputs": [
        {
          "output_type": "execute_result",
          "data": {
            "text/plain": [
              "DecisionTreeClassifier(ccp_alpha=0.0, class_weight=None, criterion='entropy',\n",
              "                       max_depth=None, max_features=None, max_leaf_nodes=None,\n",
              "                       min_impurity_decrease=0.0, min_impurity_split=None,\n",
              "                       min_samples_leaf=1, min_samples_split=5,\n",
              "                       min_weight_fraction_leaf=0.0, presort='deprecated',\n",
              "                       random_state=None, splitter='best')"
            ]
          },
          "metadata": {
            "tags": []
          },
          "execution_count": 58
        }
      ]
    },
    {
      "cell_type": "code",
      "metadata": {
        "colab": {
          "base_uri": "https://localhost:8080/"
        },
        "id": "E5wx1g1RVMNO",
        "outputId": "f5b0cfb0-c8b4-4a17-f981-1ddfad140db4"
      },
      "source": [
        "classificador_svm = SVC(C=1.5, kernel = 'rbf')\n",
        "classificador_svm.fit(X_credit, y_credit)"
      ],
      "execution_count": 59,
      "outputs": [
        {
          "output_type": "execute_result",
          "data": {
            "text/plain": [
              "SVC(C=1.5, break_ties=False, cache_size=200, class_weight=None, coef0=0.0,\n",
              "    decision_function_shape='ovr', degree=3, gamma='scale', kernel='rbf',\n",
              "    max_iter=-1, probability=False, random_state=None, shrinking=True,\n",
              "    tol=0.001, verbose=False)"
            ]
          },
          "metadata": {
            "tags": []
          },
          "execution_count": 59
        }
      ]
    },
    {
      "cell_type": "code",
      "metadata": {
        "id": "9MFs1KeFVhEp"
      },
      "source": [
        "pickle.dump(classificador_rede_neural, open('rede_neural_finalizado.sav' , 'wb'))\n",
        "pickle.dump(classificador_arvore, open('arvore_finalizado.sav' , 'wb'))\n",
        "pickle.dump(classificador_svm, open('svm_finalizado.sav' , 'wb'))"
      ],
      "execution_count": 60,
      "outputs": []
    },
    {
      "cell_type": "markdown",
      "metadata": {
        "id": "1w7NMGllWyuA"
      },
      "source": [
        "##Carregar um Classificador já Treinado"
      ]
    },
    {
      "cell_type": "code",
      "metadata": {
        "id": "g_VPO0eeW172"
      },
      "source": [
        "rede_neural = pickle.load(open('rede_neural_finalizado.sav' , 'rb'))\n",
        "arvore = pickle.load(open('arvore_finalizado.sav', 'rb'))\n",
        "svm = pickle.load(open('svm_finalizado.sav', 'rb'))"
      ],
      "execution_count": 61,
      "outputs": []
    },
    {
      "cell_type": "code",
      "metadata": {
        "colab": {
          "base_uri": "https://localhost:8080/"
        },
        "id": "wqwH7bHfYzX3",
        "outputId": "d9186b40-7a52-47b4-a155-f1a356b9b3da"
      },
      "source": [
        "novo_registro = X_credit[0]\n",
        "novo_registro"
      ],
      "execution_count": 62,
      "outputs": [
        {
          "output_type": "execute_result",
          "data": {
            "text/plain": [
              "array([-1.3754462 ,  0.50631087,  0.10980934])"
            ]
          },
          "metadata": {
            "tags": []
          },
          "execution_count": 62
        }
      ]
    },
    {
      "cell_type": "code",
      "metadata": {
        "colab": {
          "base_uri": "https://localhost:8080/"
        },
        "id": "SWcIVlq0Y6TE",
        "outputId": "3a89a0c2-8aa8-4ca6-b7e4-3ca0ba3d29ea"
      },
      "source": [
        "novo_registro.shape"
      ],
      "execution_count": 63,
      "outputs": [
        {
          "output_type": "execute_result",
          "data": {
            "text/plain": [
              "(3,)"
            ]
          },
          "metadata": {
            "tags": []
          },
          "execution_count": 63
        }
      ]
    },
    {
      "cell_type": "code",
      "metadata": {
        "colab": {
          "base_uri": "https://localhost:8080/"
        },
        "id": "m4mVPfp7ZBrG",
        "outputId": "7f32c05f-dc82-4a26-8496-c46e5ef8c4f4"
      },
      "source": [
        "novo_registro = novo_registro.reshape(1, -1)\n",
        "novo_registro.shape"
      ],
      "execution_count": 64,
      "outputs": [
        {
          "output_type": "execute_result",
          "data": {
            "text/plain": [
              "(1, 3)"
            ]
          },
          "metadata": {
            "tags": []
          },
          "execution_count": 64
        }
      ]
    },
    {
      "cell_type": "code",
      "metadata": {
        "colab": {
          "base_uri": "https://localhost:8080/"
        },
        "id": "kXsSqcQXZUAO",
        "outputId": "42cbfbe2-a269-418e-f70e-ac3235eab17b"
      },
      "source": [
        "novo_registro"
      ],
      "execution_count": 65,
      "outputs": [
        {
          "output_type": "execute_result",
          "data": {
            "text/plain": [
              "array([[-1.3754462 ,  0.50631087,  0.10980934]])"
            ]
          },
          "metadata": {
            "tags": []
          },
          "execution_count": 65
        }
      ]
    },
    {
      "cell_type": "code",
      "metadata": {
        "colab": {
          "base_uri": "https://localhost:8080/"
        },
        "id": "OFrtqDGuY8Z6",
        "outputId": "f9fd884c-454d-4f0e-9e1b-3c84b0407ad4"
      },
      "source": [
        "rede_neural.predict(novo_registro)"
      ],
      "execution_count": 66,
      "outputs": [
        {
          "output_type": "execute_result",
          "data": {
            "text/plain": [
              "array([0])"
            ]
          },
          "metadata": {
            "tags": []
          },
          "execution_count": 66
        }
      ]
    },
    {
      "cell_type": "code",
      "metadata": {
        "colab": {
          "base_uri": "https://localhost:8080/"
        },
        "id": "YcE0PrtjZXu9",
        "outputId": "3bb1caf2-c7b7-4f3c-8e0b-68d2535e06a4"
      },
      "source": [
        "arvore.predict(novo_registro)"
      ],
      "execution_count": 67,
      "outputs": [
        {
          "output_type": "execute_result",
          "data": {
            "text/plain": [
              "array([0])"
            ]
          },
          "metadata": {
            "tags": []
          },
          "execution_count": 67
        }
      ]
    },
    {
      "cell_type": "code",
      "metadata": {
        "colab": {
          "base_uri": "https://localhost:8080/"
        },
        "id": "rJclfNDzZasF",
        "outputId": "b154c1c7-4e20-4321-beb5-82e0469a2c5c"
      },
      "source": [
        "svm.predict(novo_registro)"
      ],
      "execution_count": 68,
      "outputs": [
        {
          "output_type": "execute_result",
          "data": {
            "text/plain": [
              "array([0])"
            ]
          },
          "metadata": {
            "tags": []
          },
          "execution_count": 68
        }
      ]
    },
    {
      "cell_type": "code",
      "metadata": {
        "colab": {
          "base_uri": "https://localhost:8080/"
        },
        "id": "zK_FwrRCZkIG",
        "outputId": "93e471d1-3768-4bf7-f687-7e5e6649ea1a"
      },
      "source": [
        "novo_registro = X_credit[1999]\n",
        "novo_registro = novo_registro.reshape(1, -1)\n",
        "novo_registro.shape"
      ],
      "execution_count": 69,
      "outputs": [
        {
          "output_type": "execute_result",
          "data": {
            "text/plain": [
              "(1, 3)"
            ]
          },
          "metadata": {
            "tags": []
          },
          "execution_count": 69
        }
      ]
    },
    {
      "cell_type": "code",
      "metadata": {
        "colab": {
          "base_uri": "https://localhost:8080/"
        },
        "id": "e7WbV0ySfXMK",
        "outputId": "feecbb1a-8b51-48ce-e002-9b81625b5244"
      },
      "source": [
        "novo_registro"
      ],
      "execution_count": 71,
      "outputs": [
        {
          "output_type": "execute_result",
          "data": {
            "text/plain": [
              "array([[-1.03572293, -0.93978122,  0.04244312]])"
            ]
          },
          "metadata": {
            "tags": []
          },
          "execution_count": 71
        }
      ]
    },
    {
      "cell_type": "code",
      "metadata": {
        "colab": {
          "base_uri": "https://localhost:8080/"
        },
        "id": "szd6RI-RZwzy",
        "outputId": "552134d4-e637-4260-a9d0-cb7ae450c579"
      },
      "source": [
        "rede_neural.predict(novo_registro)"
      ],
      "execution_count": 70,
      "outputs": [
        {
          "output_type": "execute_result",
          "data": {
            "text/plain": [
              "array([1])"
            ]
          },
          "metadata": {
            "tags": []
          },
          "execution_count": 70
        }
      ]
    },
    {
      "cell_type": "code",
      "metadata": {
        "colab": {
          "base_uri": "https://localhost:8080/"
        },
        "id": "HudYcJI3Zxc1",
        "outputId": "1f4ca500-0c02-4aaa-c887-efbdfe6f7016"
      },
      "source": [
        "arvore.predict(novo_registro)"
      ],
      "execution_count": 72,
      "outputs": [
        {
          "output_type": "execute_result",
          "data": {
            "text/plain": [
              "array([1])"
            ]
          },
          "metadata": {
            "tags": []
          },
          "execution_count": 72
        }
      ]
    },
    {
      "cell_type": "code",
      "metadata": {
        "colab": {
          "base_uri": "https://localhost:8080/"
        },
        "id": "a3Sjvw1vZy3-",
        "outputId": "ed9a33bd-7a57-470d-bdc5-30b68f47ee87"
      },
      "source": [
        "svm.predict(novo_registro)"
      ],
      "execution_count": 73,
      "outputs": [
        {
          "output_type": "execute_result",
          "data": {
            "text/plain": [
              "array([1])"
            ]
          },
          "metadata": {
            "tags": []
          },
          "execution_count": 73
        }
      ]
    }
  ]
}